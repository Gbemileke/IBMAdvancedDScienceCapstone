{
    "nbformat_minor": 1, 
    "cells": [
        {
            "execution_count": 1, 
            "cell_type": "code", 
            "metadata": {}, 
            "outputs": [], 
            "source": "# The code was removed by Watson Studio for sharing."
        }, 
        {
            "source": " ### IBM Advanced Data Science Capstone Project \n ####  Project Title: Predicting Customers' Chance of Charged-off on Credit Loans\n##### Summary\nThe purpose of this project is to develop a machine learning model for predict the whether a loan will be fully paid or charged off, since a charged off loan results in the loss of both the principal and interest. We obtained data  from the publicly available loan data provided by Lending Club (https://www.lendingclub.com/info/download-data.action). This data comprises information about all loans issued from 2007 to the third quarter of 2018. The initial data for 2007-2017 consists  of 1,765,429 observations and 145 features. A logistics regression and a feed forward neural network using Keras Sequential Model were trained using dataset consisting of 857,607 observations, 132 features. Then, we compared the performance of both the models to select which model to deploy. The logistics regression and neural network achieved accuracies of 0.9986 and 0.9993, respectively. Finally, from the confusion matrix, the deep learning model outperfoms the logistics resgression model. \n", 
            "cell_type": "markdown", 
            "metadata": {}
        }, 
        {
            "source": "### ETL Continued", 
            "cell_type": "markdown", 
            "metadata": {}
        }, 
        {
            "execution_count": 2, 
            "cell_type": "code", 
            "metadata": {}, 
            "outputs": [
                {
                    "output_type": "stream", 
                    "name": "stderr", 
                    "text": "/usr/local/src/conda3_runtime/home/envs/DSX-Python35-Spark/lib/python3.5/site-packages/IPython/core/interactiveshell.py:2698: DtypeWarning: Columns (0,19,47,55,112,123,124,125,128,129,130,133) have mixed types. Specify dtype option on import or set low_memory=False.\n  interactivity=interactivity, compiler=compiler, result=result)\n"
                }
            ], 
            "source": "# The code was removed by Watson Studio for sharing."
        }, 
        {
            "execution_count": 3, 
            "cell_type": "code", 
            "metadata": {}, 
            "outputs": [
                {
                    "output_type": "stream", 
                    "name": "stdout", 
                    "text": "id\nTrue     1765428\nFalse          1\nName: id, dtype: int64\n\nmember_id\nTrue    1765429\nName: member_id, dtype: int64\n\nloan_amnt\nFalse    1765426\nTrue           3\nName: loan_amnt, dtype: int64\n\nfunded_amnt\nFalse    1765426\nTrue           3\nName: funded_amnt, dtype: int64\n\nfunded_amnt_inv\nFalse    1765426\nTrue           3\nName: funded_amnt_inv, dtype: int64\n\nterm\nFalse    1765426\nTrue           3\nName: term, dtype: int64\n\nint_rate\nFalse    1765426\nTrue           3\nName: int_rate, dtype: int64\n\ninstallment\nFalse    1765426\nTrue           3\nName: installment, dtype: int64\n\ngrade\nFalse    1765426\nTrue           3\nName: grade, dtype: int64\n\nsub_grade\nFalse    1765426\nTrue           3\nName: sub_grade, dtype: int64\n\nemp_title\nFalse    1653116\nTrue      112313\nName: emp_title, dtype: int64\n\nemp_length\nFalse    1660506\nTrue      104923\nName: emp_length, dtype: int64\n\nhome_ownership\nFalse    1765426\nTrue           3\nName: home_ownership, dtype: int64\n\nannual_inc\nFalse    1765422\nTrue           7\nName: annual_inc, dtype: int64\n\nverification_status\nFalse    1765426\nTrue           3\nName: verification_status, dtype: int64\n\nissue_d\nFalse    1765426\nTrue           3\nName: issue_d, dtype: int64\n\nloan_status\nFalse    1765426\nTrue           3\nName: loan_status, dtype: int64\n\npymnt_plan\nFalse    1765426\nTrue           3\nName: pymnt_plan, dtype: int64\n\nurl\nTrue    1765429\nName: url, dtype: int64\n\ndesc\nTrue     1639362\nFalse     126067\nName: desc, dtype: int64\n\npurpose\nFalse    1765426\nTrue           3\nName: purpose, dtype: int64\n\ntitle\nFalse    1742101\nTrue       23328\nName: title, dtype: int64\n\nzip_code\nFalse    1765425\nTrue           4\nName: zip_code, dtype: int64\n\naddr_state\nFalse    1765426\nTrue           3\nName: addr_state, dtype: int64\n\ndti\nFalse    1764847\nTrue         582\nName: dti, dtype: int64\n\ndelinq_2yrs\nFalse    1765397\nTrue          32\nName: delinq_2yrs, dtype: int64\n\nearliest_cr_line\nFalse    1765397\nTrue          32\nName: earliest_cr_line, dtype: int64\n\ninq_last_6mths\nFalse    1765396\nTrue          33\nName: inq_last_6mths, dtype: int64\n\nmths_since_last_delinq\nFalse    883576\nTrue     881853\nName: mths_since_last_delinq, dtype: int64\n\nmths_since_last_record\nTrue     1469257\nFalse     296172\nName: mths_since_last_record, dtype: int64\n\nopen_acc\nFalse    1765397\nTrue          32\nName: open_acc, dtype: int64\n\npub_rec\nFalse    1765397\nTrue          32\nName: pub_rec, dtype: int64\n\nrevol_bal\nFalse    1765426\nTrue           3\nName: revol_bal, dtype: int64\n\nrevol_util\nFalse    1764216\nTrue        1213\nName: revol_util, dtype: int64\n\ntotal_acc\nFalse    1765397\nTrue          32\nName: total_acc, dtype: int64\n\ninitial_list_status\nFalse    1765426\nTrue           3\nName: initial_list_status, dtype: int64\n\nout_prncp\nFalse    1765426\nTrue           3\nName: out_prncp, dtype: int64\n\nout_prncp_inv\nFalse    1765426\nTrue           3\nName: out_prncp_inv, dtype: int64\n\ntotal_pymnt\nFalse    1765426\nTrue           3\nName: total_pymnt, dtype: int64\n\ntotal_pymnt_inv\nFalse    1765426\nTrue           3\nName: total_pymnt_inv, dtype: int64\n\ntotal_rec_prncp\nFalse    1765426\nTrue           3\nName: total_rec_prncp, dtype: int64\n\ntotal_rec_int\nFalse    1765426\nTrue           3\nName: total_rec_int, dtype: int64\n\ntotal_rec_late_fee\nFalse    1765426\nTrue           3\nName: total_rec_late_fee, dtype: int64\n\nrecoveries\nFalse    1765426\nTrue           3\nName: recoveries, dtype: int64\n\ncollection_recovery_fee\nFalse    1765426\nTrue           3\nName: collection_recovery_fee, dtype: int64\n\nlast_pymnt_d\nFalse    1763639\nTrue        1790\nName: last_pymnt_d, dtype: int64\n\nlast_pymnt_amnt\nFalse    1765426\nTrue           3\nName: last_pymnt_amnt, dtype: int64\n\nnext_pymnt_d\nTrue     1172536\nFalse     592893\nName: next_pymnt_d, dtype: int64\n\nlast_credit_pull_d\nFalse    1765357\nTrue          72\nName: last_credit_pull_d, dtype: int64\n\ncollections_12_mths_ex_med\nFalse    1765281\nTrue         148\nName: collections_12_mths_ex_med, dtype: int64\n\nmths_since_last_major_derog\nTrue     1299487\nFalse     465942\nName: mths_since_last_major_derog, dtype: int64\n\npolicy_code\nFalse    1765426\nTrue           3\nName: policy_code, dtype: int64\n\napplication_type\nFalse    1765426\nTrue           3\nName: application_type, dtype: int64\n\nannual_inc_joint\nTrue     1713704\nFalse      51725\nName: annual_inc_joint, dtype: int64\n\ndti_joint\nTrue     1713708\nFalse      51721\nName: dti_joint, dtype: int64\n\nverification_status_joint\nTrue     1713710\nFalse      51719\nName: verification_status_joint, dtype: int64\n\nacc_now_delinq\nFalse    1765397\nTrue          32\nName: acc_now_delinq, dtype: int64\n\ntot_coll_amt\nFalse    1695150\nTrue       70279\nName: tot_coll_amt, dtype: int64\n\ntot_cur_bal\nFalse    1695150\nTrue       70279\nName: tot_cur_bal, dtype: int64\n\nopen_acc_6m\nFalse    899296\nTrue     866133\nName: open_acc_6m, dtype: int64\n\nopen_act_il\nFalse    899297\nTrue     866132\nName: open_act_il, dtype: int64\n\nopen_il_12m\nFalse    899297\nTrue     866132\nName: open_il_12m, dtype: int64\n\nopen_il_24m\nFalse    899297\nTrue     866132\nName: open_il_24m, dtype: int64\n\nmths_since_rcnt_il\nTrue     891517\nFalse    873912\nName: mths_since_rcnt_il, dtype: int64\n\ntotal_bal_il\nFalse    899297\nTrue     866132\nName: total_bal_il, dtype: int64\n\nil_util\nTrue     988029\nFalse    777400\nName: il_util, dtype: int64\n\nopen_rv_12m\nFalse    899297\nTrue     866132\nName: open_rv_12m, dtype: int64\n\nopen_rv_24m\nFalse    899297\nTrue     866132\nName: open_rv_24m, dtype: int64\n\nmax_bal_bc\nFalse    899297\nTrue     866132\nName: max_bal_bc, dtype: int64\n\nall_util\nFalse    899207\nTrue     866222\nName: all_util, dtype: int64\n\ntotal_rev_hi_lim\nFalse    1695150\nTrue       70279\nName: total_rev_hi_lim, dtype: int64\n\ninq_fi\nFalse    899297\nTrue     866132\nName: inq_fi, dtype: int64\n\ntotal_cu_tl\nFalse    899296\nTrue     866133\nName: total_cu_tl, dtype: int64\n\ninq_last_12m\nFalse    899296\nTrue     866133\nName: inq_last_12m, dtype: int64\n\nacc_open_past_24mths\nFalse    1715396\nTrue       50033\nName: acc_open_past_24mths, dtype: int64\n\navg_cur_bal\nFalse    1695120\nTrue       70309\nName: avg_cur_bal, dtype: int64\n\nbc_open_to_buy\nFalse    1697079\nTrue       68350\nName: bc_open_to_buy, dtype: int64\n\nbc_util\nFalse    1696158\nTrue       69271\nName: bc_util, dtype: int64\n\nchargeoff_within_12_mths\nFalse    1765281\nTrue         148\nName: chargeoff_within_12_mths, dtype: int64\n\ndelinq_amnt\nFalse    1765397\nTrue          32\nName: delinq_amnt, dtype: int64\n\nmo_sin_old_il_acct\nFalse    1644765\nTrue      120664\nName: mo_sin_old_il_acct, dtype: int64\n\nmo_sin_old_rev_tl_op\nFalse    1695149\nTrue       70280\nName: mo_sin_old_rev_tl_op, dtype: int64\n\nmo_sin_rcnt_rev_tl_op\nFalse    1695149\nTrue       70280\nName: mo_sin_rcnt_rev_tl_op, dtype: int64\n\nmo_sin_rcnt_tl\nFalse    1695150\nTrue       70279\nName: mo_sin_rcnt_tl, dtype: int64\n\nmort_acc\nFalse    1715396\nTrue       50033\nName: mort_acc, dtype: int64\n\nmths_since_recent_bc\nFalse    1698212\nTrue       67217\nName: mths_since_recent_bc, dtype: int64\n\nmths_since_recent_bc_dlq\nTrue     1343838\nFalse     421591\nName: mths_since_recent_bc_dlq, dtype: int64\n\nmths_since_recent_inq\nFalse    1531296\nTrue      234133\nName: mths_since_recent_inq, dtype: int64\n\nmths_since_recent_revol_delinq\nTrue     1167760\nFalse     597669\nName: mths_since_recent_revol_delinq, dtype: int64\n\nnum_accts_ever_120_pd\nFalse    1695150\nTrue       70279\nName: num_accts_ever_120_pd, dtype: int64\n\nnum_actv_bc_tl\nFalse    1695150\nTrue       70279\nName: num_actv_bc_tl, dtype: int64\n\nnum_actv_rev_tl\nFalse    1695150\nTrue       70279\nName: num_actv_rev_tl, dtype: int64\n\nnum_bc_sats\nFalse    1706836\nTrue       58593\nName: num_bc_sats, dtype: int64\n\nnum_bc_tl\nFalse    1695150\nTrue       70279\nName: num_bc_tl, dtype: int64\n\nnum_il_tl\nFalse    1695150\nTrue       70279\nName: num_il_tl, dtype: int64\n\nnum_op_rev_tl\nFalse    1695150\nTrue       70279\nName: num_op_rev_tl, dtype: int64\n\nnum_rev_accts\nFalse    1695149\nTrue       70280\nName: num_rev_accts, dtype: int64\n\nnum_rev_tl_bal_gt_0\nFalse    1695150\nTrue       70279\nName: num_rev_tl_bal_gt_0, dtype: int64\n\nnum_sats\nFalse    1706836\nTrue       58593\nName: num_sats, dtype: int64\n\nnum_tl_120dpd_2m\nFalse    1624173\nTrue      141256\nName: num_tl_120dpd_2m, dtype: int64\n\nnum_tl_30dpd\nFalse    1695150\nTrue       70279\nName: num_tl_30dpd, dtype: int64\n\nnum_tl_90g_dpd_24m\nFalse    1695150\nTrue       70279\nName: num_tl_90g_dpd_24m, dtype: int64\n\nnum_tl_op_past_12m\nFalse    1695150\nTrue       70279\nName: num_tl_op_past_12m, dtype: int64\n\npct_tl_nvr_dlq\nFalse    1694997\nTrue       70432\nName: pct_tl_nvr_dlq, dtype: int64\n\npercent_bc_gt_75\nFalse    1696643\nTrue       68786\nName: percent_bc_gt_75, dtype: int64\n\npub_rec_bankruptcies\nFalse    1764061\nTrue        1368\nName: pub_rec_bankruptcies, dtype: int64\n\ntax_liens\nFalse    1765321\nTrue         108\nName: tax_liens, dtype: int64\n\ntot_hi_cred_lim\nFalse    1695150\nTrue       70279\nName: tot_hi_cred_lim, dtype: int64\n\ntotal_bal_ex_mort\nFalse    1715396\nTrue       50033\nName: total_bal_ex_mort, dtype: int64\n\ntotal_bc_limit\nFalse    1715396\nTrue       50033\nName: total_bc_limit, dtype: int64\n\ntotal_il_high_credit_limit\nFalse    1695150\nTrue       70279\nName: total_il_high_credit_limit, dtype: int64\n\nrevol_bal_joint\nTrue     1726394\nFalse      39035\nName: revol_bal_joint, dtype: int64\n\nsec_app_earliest_cr_line\nTrue     1726393\nFalse      39036\nName: sec_app_earliest_cr_line, dtype: int64\n\nsec_app_inq_last_6mths\nTrue     1726393\nFalse      39036\nName: sec_app_inq_last_6mths, dtype: int64\n\nsec_app_mort_acc\nTrue     1726393\nFalse      39036\nName: sec_app_mort_acc, dtype: int64\n\nsec_app_open_acc\nTrue     1726393\nFalse      39036\nName: sec_app_open_acc, dtype: int64\n\nsec_app_revol_util\nTrue     1727033\nFalse      38396\nName: sec_app_revol_util, dtype: int64\n\nsec_app_open_act_il\nTrue     1726393\nFalse      39036\nName: sec_app_open_act_il, dtype: int64\n\nsec_app_num_rev_accts\nTrue     1726393\nFalse      39036\nName: sec_app_num_rev_accts, dtype: int64\n\nsec_app_chargeoff_within_12_mths\nTrue     1726393\nFalse      39036\nName: sec_app_chargeoff_within_12_mths, dtype: int64\n\nsec_app_collections_12_mths_ex_med\nTrue     1726393\nFalse      39036\nName: sec_app_collections_12_mths_ex_med, dtype: int64\n\nsec_app_mths_since_last_major_derog\nTrue     1751864\nFalse      13565\nName: sec_app_mths_since_last_major_derog, dtype: int64\n\nhardship_flag\nFalse    1765426\nTrue           3\nName: hardship_flag, dtype: int64\n\nhardship_type\nTrue     1756000\nFalse       9429\nName: hardship_type, dtype: int64\n\nhardship_reason\nTrue     1756000\nFalse       9429\nName: hardship_reason, dtype: int64\n\nhardship_status\nTrue     1756000\nFalse       9429\nName: hardship_status, dtype: int64\n\ndeferral_term\nTrue     1756000\nFalse       9429\nName: deferral_term, dtype: int64\n\nhardship_amount\nTrue     1756000\nFalse       9429\nName: hardship_amount, dtype: int64\n\nhardship_start_date\nTrue     1756000\nFalse       9429\nName: hardship_start_date, dtype: int64\n\nhardship_end_date\nTrue     1756000\nFalse       9429\nName: hardship_end_date, dtype: int64\n\npayment_plan_start_date\nTrue     1756000\nFalse       9429\nName: payment_plan_start_date, dtype: int64\n\nhardship_length\nTrue     1756000\nFalse       9429\nName: hardship_length, dtype: int64\n\nhardship_dpd\nTrue     1756000\nFalse       9429\nName: hardship_dpd, dtype: int64\n\nhardship_loan_status\nTrue     1756000\nFalse       9429\nName: hardship_loan_status, dtype: int64\n\norig_projected_additional_accrued_interest\nTrue     1757907\nFalse       7522\nName: orig_projected_additional_accrued_interest, dtype: int64\n\nhardship_payoff_balance_amount\nTrue     1756000\nFalse       9429\nName: hardship_payoff_balance_amount, dtype: int64\n\nhardship_last_payment_amount\nTrue     1756000\nFalse       9429\nName: hardship_last_payment_amount, dtype: int64\n\ndisbursement_method\nFalse    1765426\nTrue           3\nName: disbursement_method, dtype: int64\n\ndebt_settlement_flag\nFalse    1765426\nTrue           3\nName: debt_settlement_flag, dtype: int64\n\ndebt_settlement_flag_date\nTrue     1736852\nFalse      28577\nName: debt_settlement_flag_date, dtype: int64\n\nsettlement_status\nTrue     1736852\nFalse      28577\nName: settlement_status, dtype: int64\n\nsettlement_date\nTrue     1736852\nFalse      28577\nName: settlement_date, dtype: int64\n\nsettlement_amount\nTrue     1736852\nFalse      28577\nName: settlement_amount, dtype: int64\n\nsettlement_percentage\nTrue     1736852\nFalse      28577\nName: settlement_percentage, dtype: int64\n\nsettlement_term\nTrue     1736852\nFalse      28577\nName: settlement_term, dtype: int64\n\n"
                }
            ], 
            "source": "# check missing data\nmissing_data = df_data_3.isnull()\nfor column in missing_data.columns.values.tolist():\n    print(column)\n    print (missing_data[column].value_counts())\n    print(\"\") "
        }, 
        {
            "execution_count": 4, 
            "cell_type": "code", 
            "metadata": {}, 
            "outputs": [
                {
                    "execution_count": 4, 
                    "metadata": {}, 
                    "data": {
                        "text/html": "<div>\n<style scoped>\n    .dataframe tbody tr th:only-of-type {\n        vertical-align: middle;\n    }\n\n    .dataframe tbody tr th {\n        vertical-align: top;\n    }\n\n    .dataframe thead th {\n        text-align: right;\n    }\n</style>\n<table border=\"1\" class=\"dataframe\">\n  <thead>\n    <tr style=\"text-align: right;\">\n      <th></th>\n      <th>emp_length</th>\n    </tr>\n  </thead>\n  <tbody>\n    <tr>\n      <th>10+ years</th>\n      <td>587623</td>\n    </tr>\n    <tr>\n      <th>2 years</th>\n      <td>158930</td>\n    </tr>\n    <tr>\n      <th>&lt; 1 year</th>\n      <td>146361</td>\n    </tr>\n    <tr>\n      <th>3 years</th>\n      <td>140124</td>\n    </tr>\n    <tr>\n      <th>1 year</th>\n      <td>115236</td>\n    </tr>\n    <tr>\n      <th>5 years</th>\n      <td>108844</td>\n    </tr>\n    <tr>\n      <th>4 years</th>\n      <td>105343</td>\n    </tr>\n    <tr>\n      <th>6 years</th>\n      <td>80651</td>\n    </tr>\n    <tr>\n      <th>8 years</th>\n      <td>75887</td>\n    </tr>\n    <tr>\n      <th>7 years</th>\n      <td>74734</td>\n    </tr>\n    <tr>\n      <th>9 years</th>\n      <td>66773</td>\n    </tr>\n  </tbody>\n</table>\n</div>", 
                        "text/plain": "           emp_length\n10+ years      587623\n2 years        158930\n< 1 year       146361\n3 years        140124\n1 year         115236\n5 years        108844\n4 years        105343\n6 years         80651\n8 years         75887\n7 years         74734\n9 years         66773"
                    }, 
                    "output_type": "execute_result"
                }
            ], 
            "source": "pd.value_counts(df_data_3.emp_length).to_frame()"
        }, 
        {
            "execution_count": 5, 
            "cell_type": "code", 
            "metadata": {}, 
            "outputs": [
                {
                    "output_type": "stream", 
                    "name": "stdout", 
                    "text": "<class 'pandas.core.frame.DataFrame'>\nRangeIndex: 1765429 entries, 0 to 1765428\nColumns: 145 entries, id to settlement_term\ndtypes: float64(106), object(39)\nmemory usage: 1.9+ GB\n"
                }
            ], 
            "source": "#meta(df_data_3)\ndf_data_3.info()"
        }, 
        {
            "execution_count": 6, 
            "cell_type": "code", 
            "metadata": {}, 
            "outputs": [
                {
                    "output_type": "stream", 
                    "name": "stdout", 
                    "text": "member_id                                     1.000000\nurl                                           1.000000\nid                                            0.999999\norig_projected_additional_accrued_interest    0.995739\nhardship_loan_status                          0.994659\nhardship_amount                               0.994659\nhardship_start_date                           0.994659\nhardship_end_date                             0.994659\npayment_plan_start_date                       0.994659\nhardship_length                               0.994659\nhardship_dpd                                  0.994659\nhardship_payoff_balance_amount                0.994659\nhardship_status                               0.994659\nhardship_last_payment_amount                  0.994659\nhardship_reason                               0.994659\nhardship_type                                 0.994659\ndeferral_term                                 0.994659\nsec_app_mths_since_last_major_derog           0.992316\nsettlement_percentage                         0.983813\nsettlement_term                               0.983813\nsettlement_status                             0.983813\nsettlement_amount                             0.983813\ndebt_settlement_flag_date                     0.983813\nsettlement_date                               0.983813\nsec_app_revol_util                            0.978251\nrevol_bal_joint                               0.977889\nsec_app_inq_last_6mths                        0.977889\nsec_app_collections_12_mths_ex_med            0.977889\nsec_app_chargeoff_within_12_mths              0.977889\nsec_app_num_rev_accts                         0.977889\nsec_app_open_act_il                           0.977889\nsec_app_open_acc                              0.977889\nsec_app_mort_acc                              0.977889\nsec_app_earliest_cr_line                      0.977889\nverification_status_joint                     0.970705\ndti_joint                                     0.970703\nannual_inc_joint                              0.970701\ndesc                                          0.928591\nmths_since_last_record                        0.832238\nmths_since_recent_bc_dlq                      0.761196\nmths_since_last_major_derog                   0.736074\nnext_pymnt_d                                  0.664165\nmths_since_recent_revol_delinq                0.661460\nil_util                                       0.559654\nmths_since_rcnt_il                            0.504986\nmths_since_last_delinq                        0.499512\nall_util                                      0.490658\nopen_acc_6m                                   0.490608\ninq_last_12m                                  0.490608\ntotal_cu_tl                                   0.490608\nopen_act_il                                   0.490607\nopen_il_12m                                   0.490607\ntotal_bal_il                                  0.490607\nopen_rv_12m                                   0.490607\nopen_rv_24m                                   0.490607\nmax_bal_bc                                    0.490607\ninq_fi                                        0.490607\nopen_il_24m                                   0.490607\ndtype: float64\n"
                }
            ], 
            "source": "#Find the percentage of null in each column\ncheck_null = df_data_3.isnull().sum().sort_values(ascending=False)/len(df_data_3)\n#print all with 20% NaNs\nprint(check_null[check_null > 0.2])"
        }, 
        {
            "execution_count": 7, 
            "cell_type": "code", 
            "metadata": {}, 
            "outputs": [
                {
                    "execution_count": 7, 
                    "metadata": {}, 
                    "data": {
                        "text/html": "<div>\n<style scoped>\n    .dataframe tbody tr th:only-of-type {\n        vertical-align: middle;\n    }\n\n    .dataframe tbody tr th {\n        vertical-align: top;\n    }\n\n    .dataframe thead th {\n        text-align: right;\n    }\n</style>\n<table border=\"1\" class=\"dataframe\">\n  <thead>\n    <tr style=\"text-align: right;\">\n      <th></th>\n      <th>Loan_Status</th>\n      <th>Count</th>\n    </tr>\n  </thead>\n  <tbody>\n    <tr>\n      <th>0</th>\n      <td>Fully Paid</td>\n      <td>0.529494</td>\n    </tr>\n    <tr>\n      <th>1</th>\n      <td>Current</td>\n      <td>0.314388</td>\n    </tr>\n    <tr>\n      <th>2</th>\n      <td>Charged Off</td>\n      <td>0.134669</td>\n    </tr>\n    <tr>\n      <th>3</th>\n      <td>Late (31-120 days)</td>\n      <td>0.010912</td>\n    </tr>\n    <tr>\n      <th>4</th>\n      <td>In Grace Period</td>\n      <td>0.006806</td>\n    </tr>\n    <tr>\n      <th>5</th>\n      <td>Late (16-30 days)</td>\n      <td>0.002160</td>\n    </tr>\n    <tr>\n      <th>6</th>\n      <td>Does not meet the credit policy. Status:Fully ...</td>\n      <td>0.001126</td>\n    </tr>\n    <tr>\n      <th>7</th>\n      <td>Does not meet the credit policy. Status:Charge...</td>\n      <td>0.000431</td>\n    </tr>\n    <tr>\n      <th>8</th>\n      <td>Default</td>\n      <td>0.000012</td>\n    </tr>\n  </tbody>\n</table>\n</div>", 
                        "text/plain": "                                         Loan_Status     Count\n0                                         Fully Paid  0.529494\n1                                            Current  0.314388\n2                                        Charged Off  0.134669\n3                                 Late (31-120 days)  0.010912\n4                                    In Grace Period  0.006806\n5                                  Late (16-30 days)  0.002160\n6  Does not meet the credit policy. Status:Fully ...  0.001126\n7  Does not meet the credit policy. Status:Charge...  0.000431\n8                                            Default  0.000012"
                    }, 
                    "output_type": "execute_result"
                }
            ], 
            "source": "# Summary of Data by Loan Status\n(pd.value_counts(df_data_3.loan_status)/len(df_data_3)).to_frame().reset_index().rename(columns= {'index':'Loan_Status','loan_status': 'Count'})"
        }, 
        {
            "execution_count": 8, 
            "cell_type": "code", 
            "metadata": {}, 
            "outputs": [
                {
                    "execution_count": 8, 
                    "metadata": {}, 
                    "data": {
                        "text/html": "<div>\n<style scoped>\n    .dataframe tbody tr th:only-of-type {\n        vertical-align: middle;\n    }\n\n    .dataframe tbody tr th {\n        vertical-align: top;\n    }\n\n    .dataframe thead th {\n        text-align: right;\n    }\n</style>\n<table border=\"1\" class=\"dataframe\">\n  <thead>\n    <tr style=\"text-align: right;\">\n      <th></th>\n      <th>Loan_Status</th>\n      <th>Count</th>\n    </tr>\n  </thead>\n  <tbody>\n    <tr>\n      <th>0</th>\n      <td>Fully Paid</td>\n      <td>934784</td>\n    </tr>\n    <tr>\n      <th>1</th>\n      <td>Current</td>\n      <td>555030</td>\n    </tr>\n    <tr>\n      <th>2</th>\n      <td>Charged Off</td>\n      <td>237749</td>\n    </tr>\n    <tr>\n      <th>3</th>\n      <td>Late (31-120 days)</td>\n      <td>19265</td>\n    </tr>\n    <tr>\n      <th>4</th>\n      <td>In Grace Period</td>\n      <td>12015</td>\n    </tr>\n    <tr>\n      <th>5</th>\n      <td>Late (16-30 days)</td>\n      <td>3813</td>\n    </tr>\n    <tr>\n      <th>6</th>\n      <td>Does not meet the credit policy. Status:Fully ...</td>\n      <td>1988</td>\n    </tr>\n    <tr>\n      <th>7</th>\n      <td>Does not meet the credit policy. Status:Charge...</td>\n      <td>761</td>\n    </tr>\n    <tr>\n      <th>8</th>\n      <td>Default</td>\n      <td>21</td>\n    </tr>\n  </tbody>\n</table>\n</div>", 
                        "text/plain": "                                         Loan_Status   Count\n0                                         Fully Paid  934784\n1                                            Current  555030\n2                                        Charged Off  237749\n3                                 Late (31-120 days)   19265\n4                                    In Grace Period   12015\n5                                  Late (16-30 days)    3813\n6  Does not meet the credit policy. Status:Fully ...    1988\n7  Does not meet the credit policy. Status:Charge...     761\n8                                            Default      21"
                    }, 
                    "output_type": "execute_result"
                }
            ], 
            "source": "df_1=df_data_3['loan_status'].value_counts().to_frame().reset_index()\ndf_1= df_1.rename(columns= {'index':'Loan_Status','loan_status': 'Count'})\ndf_1\n#df_1.index.name = 'loan_status' # to change index column name"
        }, 
        {
            "source": "## Pre-processing Data for Modeling", 
            "cell_type": "markdown", 
            "metadata": {}
        }, 
        {
            "execution_count": 9, 
            "cell_type": "code", 
            "metadata": {}, 
            "outputs": [], 
            "source": "# SELECT THE DATA OF INTEREST\ndf=df_data_3[(df_data_3.loan_status=='Fully Paid') | (df_data_3.loan_status=='Charged Off') ]"
        }, 
        {
            "execution_count": 10, 
            "cell_type": "code", 
            "metadata": {}, 
            "outputs": [
                {
                    "execution_count": 10, 
                    "metadata": {}, 
                    "data": {
                        "text/html": "<div>\n<style scoped>\n    .dataframe tbody tr th:only-of-type {\n        vertical-align: middle;\n    }\n\n    .dataframe tbody tr th {\n        vertical-align: top;\n    }\n\n    .dataframe thead th {\n        text-align: right;\n    }\n</style>\n<table border=\"1\" class=\"dataframe\">\n  <thead>\n    <tr style=\"text-align: right;\">\n      <th></th>\n      <th>Loan_Status</th>\n      <th>Count</th>\n    </tr>\n  </thead>\n  <tbody>\n    <tr>\n      <th>0</th>\n      <td>Fully Paid</td>\n      <td>934784</td>\n    </tr>\n    <tr>\n      <th>1</th>\n      <td>Charged Off</td>\n      <td>237749</td>\n    </tr>\n  </tbody>\n</table>\n</div>", 
                        "text/plain": "   Loan_Status   Count\n0   Fully Paid  934784\n1  Charged Off  237749"
                    }, 
                    "output_type": "execute_result"
                }
            ], 
            "source": "df['loan_status'].value_counts().to_frame().reset_index().rename(columns= {'index':'Loan_Status','loan_status': 'Count'})"
        }, 
        {
            "source": "#### Visualize Target Variable", 
            "cell_type": "markdown", 
            "metadata": {}
        }, 
        {
            "execution_count": 11, 
            "cell_type": "code", 
            "metadata": {}, 
            "outputs": [
                {
                    "output_type": "stream", 
                    "name": "stdout", 
                    "text": "Matplotlib version:  2.1.0\n"
                }
            ], 
            "source": "# use the inline backend to generate the plots within the browser\n%matplotlib inline \nimport matplotlib as mpl\nimport matplotlib.pyplot as plt\n\nmpl.style.use('ggplot') # optional: for ggplot-like style\n\n# check for latest version of Matplotlib\nprint ('Matplotlib version: ', mpl.__version__) # >= 2.0.0\n"
        }, 
        {
            "execution_count": 12, 
            "cell_type": "code", 
            "metadata": {}, 
            "outputs": [
                {
                    "output_type": "display_data", 
                    "data": {
                        "image/png": "[encoded data removed]", 
                        "text/plain": "<matplotlib.figure.Figure at 0x7f17ef896da0>"
                    }, 
                    "metadata": {}
                }
            ], 
            "source": "ax=df['loan_status'].value_counts()#/len(df)\n# step 2: plot data\nax.plot(kind='bar', figsize=(5, 5))\n#plt.xlabel('Year') # add to x-label to the plot\nplt.ylabel('Frequency') # add y-label to the plot\nplt.title('Loan Status', fontsize=16) # add title to the plot\n\nplt.show()"
        }, 
        {
            "execution_count": 13, 
            "cell_type": "code", 
            "metadata": {}, 
            "outputs": [
                {
                    "output_type": "stream", 
                    "name": "stdout", 
                    "text": "id                                            1.000000\nmember_id                                     1.000000\nurl                                           1.000000\nnext_pymnt_d                                  1.000000\norig_projected_additional_accrued_interest    0.997727\nsec_app_mths_since_last_major_derog           0.997438\npayment_plan_start_date                       0.996361\nhardship_type                                 0.996361\nhardship_reason                               0.996361\nhardship_status                               0.996361\ndeferral_term                                 0.996361\nhardship_amount                               0.996361\nhardship_end_date                             0.996361\nhardship_start_date                           0.996361\nhardship_length                               0.996361\nhardship_loan_status                          0.996361\nhardship_payoff_balance_amount                0.996361\nhardship_last_payment_amount                  0.996361\nhardship_dpd                                  0.996361\nsec_app_revol_util                            0.993033\nrevol_bal_joint                               0.992923\nsec_app_num_rev_accts                         0.992922\nsec_app_inq_last_6mths                        0.992922\nsec_app_mort_acc                              0.992922\nsec_app_open_acc                              0.992922\nsec_app_open_act_il                           0.992922\nsec_app_earliest_cr_line                      0.992922\nsec_app_chargeoff_within_12_mths              0.992922\nsec_app_collections_12_mths_ex_med            0.992922\ndti_joint                                     0.987904\nverification_status_joint                     0.987903\nannual_inc_joint                              0.987903\nsettlement_percentage                         0.976498\nsettlement_term                               0.976498\nsettlement_status                             0.976498\ndebt_settlement_flag_date                     0.976498\nsettlement_amount                             0.976498\nsettlement_date                               0.976498\ndesc                                          0.895362\nmths_since_last_record                        0.829643\nmths_since_recent_bc_dlq                      0.762565\nmths_since_last_major_derog                   0.737760\nil_util                                       0.714414\nmths_since_rcnt_il                            0.680277\nall_util                                      0.672350\nopen_acc_6m                                   0.672323\ntotal_cu_tl                                   0.672323\ninq_last_12m                                  0.672323\nopen_rv_12m                                   0.672322\nopen_rv_24m                                   0.672322\nmax_bal_bc                                    0.672322\ninq_fi                                        0.672322\ntotal_bal_il                                  0.672322\nopen_il_12m                                   0.672322\nopen_il_24m                                   0.672322\nopen_act_il                                   0.672322\nmths_since_recent_revol_delinq                0.665683\nmths_since_last_delinq                        0.504064\nmths_since_recent_inq                         0.133084\ndtype: float64\n"
                }
            ], 
            "source": "#Find the percentage of null in each column\ncheck_null = df.isnull().sum().sort_values(ascending=False)/len(df)\n#print all with 10% NaNs\nprint(check_null[check_null  > 0.1])\n#print(len(check_null[check_null > 0.2]))"
        }, 
        {
            "source": "### Data Cleaning", 
            "cell_type": "markdown", 
            "metadata": {}
        }, 
        {
            "execution_count": 14, 
            "cell_type": "code", 
            "metadata": {}, 
            "outputs": [
                {
                    "output_type": "stream", 
                    "name": "stderr", 
                    "text": "/usr/local/src/conda3_runtime/home/envs/DSX-Python35-Spark/lib/python3.5/site-packages/ipykernel/__main__.py:2: SettingWithCopyWarning: \nA value is trying to be set on a copy of a slice from a DataFrame\n\nSee the caveats in the documentation: http://pandas.pydata.org/pandas-docs/stable/indexing.html#indexing-view-versus-copy\n  from ipykernel import kernelapp as app\n"
                }
            ], 
            "source": "#Drop all columns with NaN > 20%\ndf.drop(check_null[check_null>0.2].index, axis=1, inplace=True) \n#df.dropna(axis=0, thresh=20, inplace=True)"
        }, 
        {
            "execution_count": 15, 
            "cell_type": "code", 
            "metadata": {}, 
            "outputs": [], 
            "source": "# Drop all row with NaN\ndf_new=df.dropna(axis=0)"
        }, 
        {
            "execution_count": 16, 
            "cell_type": "code", 
            "metadata": {}, 
            "outputs": [
                {
                    "execution_count": 16, 
                    "metadata": {}, 
                    "data": {
                        "text/html": "<div>\n<style scoped>\n    .dataframe tbody tr th:only-of-type {\n        vertical-align: middle;\n    }\n\n    .dataframe tbody tr th {\n        vertical-align: top;\n    }\n\n    .dataframe thead th {\n        text-align: right;\n    }\n</style>\n<table border=\"1\" class=\"dataframe\">\n  <thead>\n    <tr style=\"text-align: right;\">\n      <th></th>\n      <th>count</th>\n      <th>unique</th>\n      <th>top</th>\n      <th>freq</th>\n    </tr>\n  </thead>\n  <tbody>\n    <tr>\n      <th>term</th>\n      <td>857607</td>\n      <td>2</td>\n      <td>36 months</td>\n      <td>639325</td>\n    </tr>\n    <tr>\n      <th>int_rate</th>\n      <td>857607</td>\n      <td>291</td>\n      <td>10.99%</td>\n      <td>27648</td>\n    </tr>\n    <tr>\n      <th>grade</th>\n      <td>857607</td>\n      <td>7</td>\n      <td>C</td>\n      <td>248619</td>\n    </tr>\n    <tr>\n      <th>sub_grade</th>\n      <td>857607</td>\n      <td>35</td>\n      <td>C1</td>\n      <td>54485</td>\n    </tr>\n    <tr>\n      <th>emp_title</th>\n      <td>857607</td>\n      <td>267508</td>\n      <td>Teacher</td>\n      <td>14952</td>\n    </tr>\n    <tr>\n      <th>emp_length</th>\n      <td>857607</td>\n      <td>11</td>\n      <td>10+ years</td>\n      <td>300957</td>\n    </tr>\n    <tr>\n      <th>home_ownership</th>\n      <td>857607</td>\n      <td>6</td>\n      <td>MORTGAGE</td>\n      <td>443247</td>\n    </tr>\n    <tr>\n      <th>verification_status</th>\n      <td>857607</td>\n      <td>3</td>\n      <td>Source Verified</td>\n      <td>355645</td>\n    </tr>\n    <tr>\n      <th>issue_d</th>\n      <td>857607</td>\n      <td>65</td>\n      <td>Oct-15</td>\n      <td>31493</td>\n    </tr>\n    <tr>\n      <th>loan_status</th>\n      <td>857607</td>\n      <td>2</td>\n      <td>Fully Paid</td>\n      <td>684084</td>\n    </tr>\n    <tr>\n      <th>pymnt_plan</th>\n      <td>857607</td>\n      <td>2</td>\n      <td>n</td>\n      <td>857606</td>\n    </tr>\n    <tr>\n      <th>purpose</th>\n      <td>857607</td>\n      <td>14</td>\n      <td>debt_consolidation</td>\n      <td>511057</td>\n    </tr>\n    <tr>\n      <th>title</th>\n      <td>857607</td>\n      <td>31714</td>\n      <td>Debt consolidation</td>\n      <td>448514</td>\n    </tr>\n    <tr>\n      <th>zip_code</th>\n      <td>857607</td>\n      <td>935</td>\n      <td>750xx</td>\n      <td>10061</td>\n    </tr>\n    <tr>\n      <th>addr_state</th>\n      <td>857607</td>\n      <td>51</td>\n      <td>CA</td>\n      <td>122304</td>\n    </tr>\n    <tr>\n      <th>earliest_cr_line</th>\n      <td>857607</td>\n      <td>846</td>\n      <td>Aug-01</td>\n      <td>6059</td>\n    </tr>\n    <tr>\n      <th>revol_util</th>\n      <td>857607</td>\n      <td>1225</td>\n      <td>0%</td>\n      <td>2796</td>\n    </tr>\n    <tr>\n      <th>initial_list_status</th>\n      <td>857607</td>\n      <td>2</td>\n      <td>w</td>\n      <td>501752</td>\n    </tr>\n    <tr>\n      <th>last_pymnt_d</th>\n      <td>857607</td>\n      <td>110</td>\n      <td>Mar-18</td>\n      <td>26089</td>\n    </tr>\n    <tr>\n      <th>last_credit_pull_d</th>\n      <td>857607</td>\n      <td>113</td>\n      <td>Nov-18</td>\n      <td>288548</td>\n    </tr>\n    <tr>\n      <th>application_type</th>\n      <td>857607</td>\n      <td>2</td>\n      <td>Individual</td>\n      <td>847206</td>\n    </tr>\n    <tr>\n      <th>hardship_flag</th>\n      <td>857607</td>\n      <td>2</td>\n      <td>N</td>\n      <td>857606</td>\n    </tr>\n    <tr>\n      <th>disbursement_method</th>\n      <td>857607</td>\n      <td>2</td>\n      <td>Cash</td>\n      <td>855860</td>\n    </tr>\n    <tr>\n      <th>debt_settlement_flag</th>\n      <td>857607</td>\n      <td>2</td>\n      <td>N</td>\n      <td>836831</td>\n    </tr>\n  </tbody>\n</table>\n</div>", 
                        "text/plain": "                       count  unique                 top    freq\nterm                  857607       2           36 months  639325\nint_rate              857607     291              10.99%   27648\ngrade                 857607       7                   C  248619\nsub_grade             857607      35                  C1   54485\nemp_title             857607  267508             Teacher   14952\nemp_length            857607      11           10+ years  300957\nhome_ownership        857607       6            MORTGAGE  443247\nverification_status   857607       3     Source Verified  355645\nissue_d               857607      65              Oct-15   31493\nloan_status           857607       2          Fully Paid  684084\npymnt_plan            857607       2                   n  857606\npurpose               857607      14  debt_consolidation  511057\ntitle                 857607   31714  Debt consolidation  448514\nzip_code              857607     935               750xx   10061\naddr_state            857607      51                  CA  122304\nearliest_cr_line      857607     846              Aug-01    6059\nrevol_util            857607    1225                  0%    2796\ninitial_list_status   857607       2                   w  501752\nlast_pymnt_d          857607     110              Mar-18   26089\nlast_credit_pull_d    857607     113              Nov-18  288548\napplication_type      857607       2          Individual  847206\nhardship_flag         857607       2                   N  857606\ndisbursement_method   857607       2                Cash  855860\ndebt_settlement_flag  857607       2                   N  836831"
                    }, 
                    "output_type": "execute_result"
                }
            ], 
            "source": "df_new.describe(include=['object']).transpose()"
        }, 
        {
            "execution_count": 17, 
            "cell_type": "code", 
            "metadata": {}, 
            "outputs": [
                {
                    "execution_count": 17, 
                    "metadata": {}, 
                    "data": {
                        "text/html": "<div>\n<style scoped>\n    .dataframe tbody tr th:only-of-type {\n        vertical-align: middle;\n    }\n\n    .dataframe tbody tr th {\n        vertical-align: top;\n    }\n\n    .dataframe thead th {\n        text-align: right;\n    }\n</style>\n<table border=\"1\" class=\"dataframe\">\n  <thead>\n    <tr style=\"text-align: right;\">\n      <th></th>\n      <th>count</th>\n      <th>mean</th>\n      <th>std</th>\n      <th>min</th>\n      <th>25%</th>\n      <th>50%</th>\n      <th>75%</th>\n      <th>max</th>\n    </tr>\n  </thead>\n  <tbody>\n    <tr>\n      <th>loan_amnt</th>\n      <td>857607.0</td>\n      <td>14807.932684</td>\n      <td>8666.141173</td>\n      <td>1.000000e+03</td>\n      <td>8000.000</td>\n      <td>12950.00</td>\n      <td>20000.000</td>\n      <td>4.000000e+04</td>\n    </tr>\n    <tr>\n      <th>funded_amnt</th>\n      <td>857607.0</td>\n      <td>14807.926037</td>\n      <td>8666.141206</td>\n      <td>1.000000e+03</td>\n      <td>8000.000</td>\n      <td>12950.00</td>\n      <td>20000.000</td>\n      <td>4.000000e+04</td>\n    </tr>\n    <tr>\n      <th>funded_amnt_inv</th>\n      <td>857607.0</td>\n      <td>14801.953169</td>\n      <td>8663.026811</td>\n      <td>7.750000e+02</td>\n      <td>8000.000</td>\n      <td>12925.00</td>\n      <td>20000.000</td>\n      <td>4.000000e+04</td>\n    </tr>\n    <tr>\n      <th>installment</th>\n      <td>857607.0</td>\n      <td>449.662246</td>\n      <td>260.693072</td>\n      <td>4.930000e+00</td>\n      <td>260.550</td>\n      <td>387.40</td>\n      <td>594.800</td>\n      <td>1.719830e+03</td>\n    </tr>\n    <tr>\n      <th>annual_inc</th>\n      <td>857607.0</td>\n      <td>78956.278287</td>\n      <td>70929.916399</td>\n      <td>1.000000e+02</td>\n      <td>49000.000</td>\n      <td>67000.00</td>\n      <td>95000.000</td>\n      <td>9.550000e+06</td>\n    </tr>\n    <tr>\n      <th>dti</th>\n      <td>857607.0</td>\n      <td>18.604874</td>\n      <td>8.822707</td>\n      <td>-1.000000e+00</td>\n      <td>12.390</td>\n      <td>18.05</td>\n      <td>24.370</td>\n      <td>9.990000e+02</td>\n    </tr>\n    <tr>\n      <th>delinq_2yrs</th>\n      <td>857607.0</td>\n      <td>0.331391</td>\n      <td>0.889151</td>\n      <td>0.000000e+00</td>\n      <td>0.000</td>\n      <td>0.00</td>\n      <td>0.000</td>\n      <td>3.900000e+01</td>\n    </tr>\n    <tr>\n      <th>inq_last_6mths</th>\n      <td>857607.0</td>\n      <td>0.703877</td>\n      <td>0.941978</td>\n      <td>0.000000e+00</td>\n      <td>0.000</td>\n      <td>0.00</td>\n      <td>1.000</td>\n      <td>8.000000e+00</td>\n    </tr>\n    <tr>\n      <th>open_acc</th>\n      <td>857607.0</td>\n      <td>12.160725</td>\n      <td>5.499640</td>\n      <td>1.000000e+00</td>\n      <td>8.000</td>\n      <td>11.00</td>\n      <td>15.000</td>\n      <td>9.000000e+01</td>\n    </tr>\n    <tr>\n      <th>pub_rec</th>\n      <td>857607.0</td>\n      <td>0.223657</td>\n      <td>0.624074</td>\n      <td>0.000000e+00</td>\n      <td>0.000</td>\n      <td>0.00</td>\n      <td>0.000</td>\n      <td>8.600000e+01</td>\n    </tr>\n    <tr>\n      <th>revol_bal</th>\n      <td>857607.0</td>\n      <td>16360.233774</td>\n      <td>21543.708792</td>\n      <td>0.000000e+00</td>\n      <td>6243.000</td>\n      <td>11463.00</td>\n      <td>20098.000</td>\n      <td>2.568995e+06</td>\n    </tr>\n    <tr>\n      <th>total_acc</th>\n      <td>857607.0</td>\n      <td>26.265007</td>\n      <td>12.036828</td>\n      <td>3.000000e+00</td>\n      <td>18.000</td>\n      <td>25.00</td>\n      <td>33.000</td>\n      <td>1.760000e+02</td>\n    </tr>\n    <tr>\n      <th>out_prncp</th>\n      <td>857607.0</td>\n      <td>0.000000</td>\n      <td>0.000000</td>\n      <td>0.000000e+00</td>\n      <td>0.000</td>\n      <td>0.00</td>\n      <td>0.000</td>\n      <td>0.000000e+00</td>\n    </tr>\n    <tr>\n      <th>out_prncp_inv</th>\n      <td>857607.0</td>\n      <td>0.000000</td>\n      <td>0.000000</td>\n      <td>0.000000e+00</td>\n      <td>0.000</td>\n      <td>0.00</td>\n      <td>0.000</td>\n      <td>0.000000e+00</td>\n    </tr>\n    <tr>\n      <th>total_pymnt</th>\n      <td>857607.0</td>\n      <td>15192.031816</td>\n      <td>10342.866474</td>\n      <td>1.658000e+01</td>\n      <td>7186.115</td>\n      <td>12593.59</td>\n      <td>21094.550</td>\n      <td>6.288480e+04</td>\n    </tr>\n    <tr>\n      <th>total_pymnt_inv</th>\n      <td>857607.0</td>\n      <td>15185.948358</td>\n      <td>10339.112328</td>\n      <td>1.658000e+01</td>\n      <td>7183.285</td>\n      <td>12588.03</td>\n      <td>21084.070</td>\n      <td>6.286251e+04</td>\n    </tr>\n    <tr>\n      <th>total_rec_prncp</th>\n      <td>857607.0</td>\n      <td>12467.943206</td>\n      <td>8888.217336</td>\n      <td>0.000000e+00</td>\n      <td>5433.985</td>\n      <td>10000.00</td>\n      <td>18000.000</td>\n      <td>4.000000e+04</td>\n    </tr>\n    <tr>\n      <th>total_rec_int</th>\n      <td>857607.0</td>\n      <td>2471.271979</td>\n      <td>2607.598970</td>\n      <td>0.000000e+00</td>\n      <td>817.330</td>\n      <td>1647.75</td>\n      <td>3135.990</td>\n      <td>2.788480e+04</td>\n    </tr>\n    <tr>\n      <th>total_rec_late_fee</th>\n      <td>857607.0</td>\n      <td>1.496803</td>\n      <td>10.287526</td>\n      <td>-5.100000e-09</td>\n      <td>0.000</td>\n      <td>0.00</td>\n      <td>0.000</td>\n      <td>1.188830e+03</td>\n    </tr>\n    <tr>\n      <th>recoveries</th>\n      <td>857607.0</td>\n      <td>251.319827</td>\n      <td>960.162420</td>\n      <td>0.000000e+00</td>\n      <td>0.000</td>\n      <td>0.00</td>\n      <td>0.000</td>\n      <td>3.985955e+04</td>\n    </tr>\n    <tr>\n      <th>collection_recovery_fee</th>\n      <td>857607.0</td>\n      <td>41.985059</td>\n      <td>167.861827</td>\n      <td>0.000000e+00</td>\n      <td>0.000</td>\n      <td>0.00</td>\n      <td>0.000</td>\n      <td>7.174719e+03</td>\n    </tr>\n    <tr>\n      <th>last_pymnt_amnt</th>\n      <td>857607.0</td>\n      <td>5819.601691</td>\n      <td>7229.174613</td>\n      <td>0.000000e+00</td>\n      <td>459.370</td>\n      <td>2693.85</td>\n      <td>9021.145</td>\n      <td>4.219205e+04</td>\n    </tr>\n    <tr>\n      <th>collections_12_mths_ex_med</th>\n      <td>857607.0</td>\n      <td>0.016825</td>\n      <td>0.142857</td>\n      <td>0.000000e+00</td>\n      <td>0.000</td>\n      <td>0.00</td>\n      <td>0.000</td>\n      <td>2.000000e+01</td>\n    </tr>\n    <tr>\n      <th>policy_code</th>\n      <td>857607.0</td>\n      <td>1.000000</td>\n      <td>0.000000</td>\n      <td>1.000000e+00</td>\n      <td>1.000</td>\n      <td>1.00</td>\n      <td>1.000</td>\n      <td>1.000000e+00</td>\n    </tr>\n    <tr>\n      <th>acc_now_delinq</th>\n      <td>857607.0</td>\n      <td>0.005658</td>\n      <td>0.082142</td>\n      <td>0.000000e+00</td>\n      <td>0.000</td>\n      <td>0.00</td>\n      <td>0.000</td>\n      <td>1.400000e+01</td>\n    </tr>\n    <tr>\n      <th>tot_coll_amt</th>\n      <td>857607.0</td>\n      <td>252.836741</td>\n      <td>10137.676455</td>\n      <td>0.000000e+00</td>\n      <td>0.000</td>\n      <td>0.00</td>\n      <td>0.000</td>\n      <td>9.152545e+06</td>\n    </tr>\n    <tr>\n      <th>tot_cur_bal</th>\n      <td>857607.0</td>\n      <td>149118.784113</td>\n      <td>157699.632865</td>\n      <td>0.000000e+00</td>\n      <td>33844.000</td>\n      <td>93050.00</td>\n      <td>221437.000</td>\n      <td>5.172185e+06</td>\n    </tr>\n    <tr>\n      <th>total_rev_hi_lim</th>\n      <td>857607.0</td>\n      <td>32748.594483</td>\n      <td>35658.945751</td>\n      <td>2.000000e+02</td>\n      <td>14400.000</td>\n      <td>24400.00</td>\n      <td>40700.000</td>\n      <td>9.999999e+06</td>\n    </tr>\n    <tr>\n      <th>acc_open_past_24mths</th>\n      <td>857607.0</td>\n      <td>5.013539</td>\n      <td>3.165176</td>\n      <td>0.000000e+00</td>\n      <td>3.000</td>\n      <td>4.00</td>\n      <td>7.000</td>\n      <td>6.400000e+01</td>\n    </tr>\n    <tr>\n      <th>avg_cur_bal</th>\n      <td>857607.0</td>\n      <td>13815.126505</td>\n      <td>15797.780363</td>\n      <td>0.000000e+00</td>\n      <td>3383.000</td>\n      <td>8122.00</td>\n      <td>19257.000</td>\n      <td>5.020020e+05</td>\n    </tr>\n    <tr>\n      <th>...</th>\n      <td>...</td>\n      <td>...</td>\n      <td>...</td>\n      <td>...</td>\n      <td>...</td>\n      <td>...</td>\n      <td>...</td>\n      <td>...</td>\n    </tr>\n    <tr>\n      <th>delinq_amnt</th>\n      <td>857607.0</td>\n      <td>14.315407</td>\n      <td>737.602226</td>\n      <td>0.000000e+00</td>\n      <td>0.000</td>\n      <td>0.00</td>\n      <td>0.000</td>\n      <td>9.205100e+04</td>\n    </tr>\n    <tr>\n      <th>mo_sin_old_il_acct</th>\n      <td>857607.0</td>\n      <td>125.769087</td>\n      <td>51.763489</td>\n      <td>0.000000e+00</td>\n      <td>98.000</td>\n      <td>129.00</td>\n      <td>152.000</td>\n      <td>9.990000e+02</td>\n    </tr>\n    <tr>\n      <th>mo_sin_old_rev_tl_op</th>\n      <td>857607.0</td>\n      <td>176.505791</td>\n      <td>89.065700</td>\n      <td>2.000000e+00</td>\n      <td>116.000</td>\n      <td>161.00</td>\n      <td>223.000</td>\n      <td>8.420000e+02</td>\n    </tr>\n    <tr>\n      <th>mo_sin_rcnt_rev_tl_op</th>\n      <td>857607.0</td>\n      <td>11.954821</td>\n      <td>14.472067</td>\n      <td>0.000000e+00</td>\n      <td>3.000</td>\n      <td>8.00</td>\n      <td>15.000</td>\n      <td>3.720000e+02</td>\n    </tr>\n    <tr>\n      <th>mo_sin_rcnt_tl</th>\n      <td>857607.0</td>\n      <td>6.970772</td>\n      <td>6.777180</td>\n      <td>0.000000e+00</td>\n      <td>3.000</td>\n      <td>5.00</td>\n      <td>9.000</td>\n      <td>1.940000e+02</td>\n    </tr>\n    <tr>\n      <th>mort_acc</th>\n      <td>857607.0</td>\n      <td>1.755033</td>\n      <td>2.036218</td>\n      <td>0.000000e+00</td>\n      <td>0.000</td>\n      <td>1.00</td>\n      <td>3.000</td>\n      <td>4.700000e+01</td>\n    </tr>\n    <tr>\n      <th>mths_since_recent_bc</th>\n      <td>857607.0</td>\n      <td>22.376093</td>\n      <td>28.469646</td>\n      <td>0.000000e+00</td>\n      <td>6.000</td>\n      <td>13.00</td>\n      <td>26.000</td>\n      <td>6.040000e+02</td>\n    </tr>\n    <tr>\n      <th>mths_since_recent_inq</th>\n      <td>857607.0</td>\n      <td>6.758062</td>\n      <td>5.851955</td>\n      <td>0.000000e+00</td>\n      <td>2.000</td>\n      <td>5.00</td>\n      <td>10.000</td>\n      <td>2.400000e+01</td>\n    </tr>\n    <tr>\n      <th>num_accts_ever_120_pd</th>\n      <td>857607.0</td>\n      <td>0.547368</td>\n      <td>1.368795</td>\n      <td>0.000000e+00</td>\n      <td>0.000</td>\n      <td>0.00</td>\n      <td>1.000</td>\n      <td>5.100000e+01</td>\n    </tr>\n    <tr>\n      <th>num_actv_bc_tl</th>\n      <td>857607.0</td>\n      <td>3.682943</td>\n      <td>2.183669</td>\n      <td>0.000000e+00</td>\n      <td>2.000</td>\n      <td>3.00</td>\n      <td>5.000</td>\n      <td>3.000000e+01</td>\n    </tr>\n    <tr>\n      <th>num_actv_rev_tl</th>\n      <td>857607.0</td>\n      <td>5.685405</td>\n      <td>3.190008</td>\n      <td>0.000000e+00</td>\n      <td>3.000</td>\n      <td>5.00</td>\n      <td>7.000</td>\n      <td>4.400000e+01</td>\n    </tr>\n    <tr>\n      <th>num_bc_sats</th>\n      <td>857607.0</td>\n      <td>4.721196</td>\n      <td>2.753576</td>\n      <td>0.000000e+00</td>\n      <td>3.000</td>\n      <td>4.00</td>\n      <td>6.000</td>\n      <td>6.300000e+01</td>\n    </tr>\n    <tr>\n      <th>num_bc_tl</th>\n      <td>857607.0</td>\n      <td>8.346030</td>\n      <td>4.823489</td>\n      <td>1.000000e+00</td>\n      <td>5.000</td>\n      <td>7.00</td>\n      <td>11.000</td>\n      <td>7.000000e+01</td>\n    </tr>\n    <tr>\n      <th>num_il_tl</th>\n      <td>857607.0</td>\n      <td>9.196428</td>\n      <td>7.497519</td>\n      <td>1.000000e+00</td>\n      <td>4.000</td>\n      <td>7.00</td>\n      <td>12.000</td>\n      <td>1.500000e+02</td>\n    </tr>\n    <tr>\n      <th>num_op_rev_tl</th>\n      <td>857607.0</td>\n      <td>8.512264</td>\n      <td>4.559742</td>\n      <td>1.000000e+00</td>\n      <td>5.000</td>\n      <td>8.00</td>\n      <td>11.000</td>\n      <td>8.300000e+01</td>\n    </tr>\n    <tr>\n      <th>num_rev_accts</th>\n      <td>857607.0</td>\n      <td>15.028557</td>\n      <td>8.133629</td>\n      <td>1.000000e+00</td>\n      <td>9.000</td>\n      <td>14.00</td>\n      <td>19.000</td>\n      <td>1.280000e+02</td>\n    </tr>\n    <tr>\n      <th>num_rev_tl_bal_gt_0</th>\n      <td>857607.0</td>\n      <td>5.707409</td>\n      <td>3.199879</td>\n      <td>0.000000e+00</td>\n      <td>3.000</td>\n      <td>5.00</td>\n      <td>7.000</td>\n      <td>4.400000e+01</td>\n    </tr>\n    <tr>\n      <th>num_sats</th>\n      <td>857607.0</td>\n      <td>12.129347</td>\n      <td>5.495008</td>\n      <td>1.000000e+00</td>\n      <td>8.000</td>\n      <td>11.00</td>\n      <td>15.000</td>\n      <td>9.000000e+01</td>\n    </tr>\n    <tr>\n      <th>num_tl_120dpd_2m</th>\n      <td>857607.0</td>\n      <td>0.000844</td>\n      <td>0.030835</td>\n      <td>0.000000e+00</td>\n      <td>0.000</td>\n      <td>0.00</td>\n      <td>0.000</td>\n      <td>6.000000e+00</td>\n    </tr>\n    <tr>\n      <th>num_tl_30dpd</th>\n      <td>857607.0</td>\n      <td>0.003664</td>\n      <td>0.064596</td>\n      <td>0.000000e+00</td>\n      <td>0.000</td>\n      <td>0.00</td>\n      <td>0.000</td>\n      <td>4.000000e+00</td>\n    </tr>\n    <tr>\n      <th>num_tl_90g_dpd_24m</th>\n      <td>857607.0</td>\n      <td>0.084380</td>\n      <td>0.480260</td>\n      <td>0.000000e+00</td>\n      <td>0.000</td>\n      <td>0.00</td>\n      <td>0.000</td>\n      <td>3.900000e+01</td>\n    </tr>\n    <tr>\n      <th>num_tl_op_past_12m</th>\n      <td>857607.0</td>\n      <td>2.301991</td>\n      <td>1.836584</td>\n      <td>0.000000e+00</td>\n      <td>1.000</td>\n      <td>2.00</td>\n      <td>3.000</td>\n      <td>3.000000e+01</td>\n    </tr>\n    <tr>\n      <th>pct_tl_nvr_dlq</th>\n      <td>857607.0</td>\n      <td>94.328550</td>\n      <td>8.408537</td>\n      <td>6.700000e+00</td>\n      <td>91.700</td>\n      <td>97.70</td>\n      <td>100.000</td>\n      <td>1.000000e+02</td>\n    </tr>\n    <tr>\n      <th>percent_bc_gt_75</th>\n      <td>857607.0</td>\n      <td>45.402819</td>\n      <td>35.616016</td>\n      <td>0.000000e+00</td>\n      <td>12.500</td>\n      <td>44.40</td>\n      <td>75.000</td>\n      <td>1.000000e+02</td>\n    </tr>\n    <tr>\n      <th>pub_rec_bankruptcies</th>\n      <td>857607.0</td>\n      <td>0.136896</td>\n      <td>0.386403</td>\n      <td>0.000000e+00</td>\n      <td>0.000</td>\n      <td>0.00</td>\n      <td>0.000</td>\n      <td>1.200000e+01</td>\n    </tr>\n    <tr>\n      <th>tax_liens</th>\n      <td>857607.0</td>\n      <td>0.055781</td>\n      <td>0.416501</td>\n      <td>0.000000e+00</td>\n      <td>0.000</td>\n      <td>0.00</td>\n      <td>0.000</td>\n      <td>8.500000e+01</td>\n    </tr>\n    <tr>\n      <th>tot_hi_cred_lim</th>\n      <td>857607.0</td>\n      <td>182648.953115</td>\n      <td>177126.250081</td>\n      <td>3.000000e+02</td>\n      <td>54933.500</td>\n      <td>125126.00</td>\n      <td>262807.000</td>\n      <td>9.999999e+06</td>\n    </tr>\n    <tr>\n      <th>total_bal_ex_mort</th>\n      <td>857607.0</td>\n      <td>52874.411216</td>\n      <td>48518.103314</td>\n      <td>0.000000e+00</td>\n      <td>23701.500</td>\n      <td>40292.00</td>\n      <td>66005.000</td>\n      <td>3.408095e+06</td>\n    </tr>\n    <tr>\n      <th>total_bc_limit</th>\n      <td>857607.0</td>\n      <td>21621.165998</td>\n      <td>21145.660700</td>\n      <td>1.000000e+02</td>\n      <td>8000.000</td>\n      <td>15200.00</td>\n      <td>28000.000</td>\n      <td>1.105500e+06</td>\n    </tr>\n    <tr>\n      <th>total_il_high_credit_limit</th>\n      <td>857607.0</td>\n      <td>45336.861634</td>\n      <td>43719.681151</td>\n      <td>0.000000e+00</td>\n      <td>17958.000</td>\n      <td>34718.00</td>\n      <td>59950.000</td>\n      <td>2.101913e+06</td>\n    </tr>\n  </tbody>\n</table>\n<p>63 rows \u00d7 8 columns</p>\n</div>", 
                        "text/plain": "                               count           mean            std  \\\nloan_amnt                   857607.0   14807.932684    8666.141173   \nfunded_amnt                 857607.0   14807.926037    8666.141206   \nfunded_amnt_inv             857607.0   14801.953169    8663.026811   \ninstallment                 857607.0     449.662246     260.693072   \nannual_inc                  857607.0   78956.278287   70929.916399   \ndti                         857607.0      18.604874       8.822707   \ndelinq_2yrs                 857607.0       0.331391       0.889151   \ninq_last_6mths              857607.0       0.703877       0.941978   \nopen_acc                    857607.0      12.160725       5.499640   \npub_rec                     857607.0       0.223657       0.624074   \nrevol_bal                   857607.0   16360.233774   21543.708792   \ntotal_acc                   857607.0      26.265007      12.036828   \nout_prncp                   857607.0       0.000000       0.000000   \nout_prncp_inv               857607.0       0.000000       0.000000   \ntotal_pymnt                 857607.0   15192.031816   10342.866474   \ntotal_pymnt_inv             857607.0   15185.948358   10339.112328   \ntotal_rec_prncp             857607.0   12467.943206    8888.217336   \ntotal_rec_int               857607.0    2471.271979    2607.598970   \ntotal_rec_late_fee          857607.0       1.496803      10.287526   \nrecoveries                  857607.0     251.319827     960.162420   \ncollection_recovery_fee     857607.0      41.985059     167.861827   \nlast_pymnt_amnt             857607.0    5819.601691    7229.174613   \ncollections_12_mths_ex_med  857607.0       0.016825       0.142857   \npolicy_code                 857607.0       1.000000       0.000000   \nacc_now_delinq              857607.0       0.005658       0.082142   \ntot_coll_amt                857607.0     252.836741   10137.676455   \ntot_cur_bal                 857607.0  149118.784113  157699.632865   \ntotal_rev_hi_lim            857607.0   32748.594483   35658.945751   \nacc_open_past_24mths        857607.0       5.013539       3.165176   \navg_cur_bal                 857607.0   13815.126505   15797.780363   \n...                              ...            ...            ...   \ndelinq_amnt                 857607.0      14.315407     737.602226   \nmo_sin_old_il_acct          857607.0     125.769087      51.763489   \nmo_sin_old_rev_tl_op        857607.0     176.505791      89.065700   \nmo_sin_rcnt_rev_tl_op       857607.0      11.954821      14.472067   \nmo_sin_rcnt_tl              857607.0       6.970772       6.777180   \nmort_acc                    857607.0       1.755033       2.036218   \nmths_since_recent_bc        857607.0      22.376093      28.469646   \nmths_since_recent_inq       857607.0       6.758062       5.851955   \nnum_accts_ever_120_pd       857607.0       0.547368       1.368795   \nnum_actv_bc_tl              857607.0       3.682943       2.183669   \nnum_actv_rev_tl             857607.0       5.685405       3.190008   \nnum_bc_sats                 857607.0       4.721196       2.753576   \nnum_bc_tl                   857607.0       8.346030       4.823489   \nnum_il_tl                   857607.0       9.196428       7.497519   \nnum_op_rev_tl               857607.0       8.512264       4.559742   \nnum_rev_accts               857607.0      15.028557       8.133629   \nnum_rev_tl_bal_gt_0         857607.0       5.707409       3.199879   \nnum_sats                    857607.0      12.129347       5.495008   \nnum_tl_120dpd_2m            857607.0       0.000844       0.030835   \nnum_tl_30dpd                857607.0       0.003664       0.064596   \nnum_tl_90g_dpd_24m          857607.0       0.084380       0.480260   \nnum_tl_op_past_12m          857607.0       2.301991       1.836584   \npct_tl_nvr_dlq              857607.0      94.328550       8.408537   \npercent_bc_gt_75            857607.0      45.402819      35.616016   \npub_rec_bankruptcies        857607.0       0.136896       0.386403   \ntax_liens                   857607.0       0.055781       0.416501   \ntot_hi_cred_lim             857607.0  182648.953115  177126.250081   \ntotal_bal_ex_mort           857607.0   52874.411216   48518.103314   \ntotal_bc_limit              857607.0   21621.165998   21145.660700   \ntotal_il_high_credit_limit  857607.0   45336.861634   43719.681151   \n\n                                     min        25%        50%         75%  \\\nloan_amnt                   1.000000e+03   8000.000   12950.00   20000.000   \nfunded_amnt                 1.000000e+03   8000.000   12950.00   20000.000   \nfunded_amnt_inv             7.750000e+02   8000.000   12925.00   20000.000   \ninstallment                 4.930000e+00    260.550     387.40     594.800   \nannual_inc                  1.000000e+02  49000.000   67000.00   95000.000   \ndti                        -1.000000e+00     12.390      18.05      24.370   \ndelinq_2yrs                 0.000000e+00      0.000       0.00       0.000   \ninq_last_6mths              0.000000e+00      0.000       0.00       1.000   \nopen_acc                    1.000000e+00      8.000      11.00      15.000   \npub_rec                     0.000000e+00      0.000       0.00       0.000   \nrevol_bal                   0.000000e+00   6243.000   11463.00   20098.000   \ntotal_acc                   3.000000e+00     18.000      25.00      33.000   \nout_prncp                   0.000000e+00      0.000       0.00       0.000   \nout_prncp_inv               0.000000e+00      0.000       0.00       0.000   \ntotal_pymnt                 1.658000e+01   7186.115   12593.59   21094.550   \ntotal_pymnt_inv             1.658000e+01   7183.285   12588.03   21084.070   \ntotal_rec_prncp             0.000000e+00   5433.985   10000.00   18000.000   \ntotal_rec_int               0.000000e+00    817.330    1647.75    3135.990   \ntotal_rec_late_fee         -5.100000e-09      0.000       0.00       0.000   \nrecoveries                  0.000000e+00      0.000       0.00       0.000   \ncollection_recovery_fee     0.000000e+00      0.000       0.00       0.000   \nlast_pymnt_amnt             0.000000e+00    459.370    2693.85    9021.145   \ncollections_12_mths_ex_med  0.000000e+00      0.000       0.00       0.000   \npolicy_code                 1.000000e+00      1.000       1.00       1.000   \nacc_now_delinq              0.000000e+00      0.000       0.00       0.000   \ntot_coll_amt                0.000000e+00      0.000       0.00       0.000   \ntot_cur_bal                 0.000000e+00  33844.000   93050.00  221437.000   \ntotal_rev_hi_lim            2.000000e+02  14400.000   24400.00   40700.000   \nacc_open_past_24mths        0.000000e+00      3.000       4.00       7.000   \navg_cur_bal                 0.000000e+00   3383.000    8122.00   19257.000   \n...                                  ...        ...        ...         ...   \ndelinq_amnt                 0.000000e+00      0.000       0.00       0.000   \nmo_sin_old_il_acct          0.000000e+00     98.000     129.00     152.000   \nmo_sin_old_rev_tl_op        2.000000e+00    116.000     161.00     223.000   \nmo_sin_rcnt_rev_tl_op       0.000000e+00      3.000       8.00      15.000   \nmo_sin_rcnt_tl              0.000000e+00      3.000       5.00       9.000   \nmort_acc                    0.000000e+00      0.000       1.00       3.000   \nmths_since_recent_bc        0.000000e+00      6.000      13.00      26.000   \nmths_since_recent_inq       0.000000e+00      2.000       5.00      10.000   \nnum_accts_ever_120_pd       0.000000e+00      0.000       0.00       1.000   \nnum_actv_bc_tl              0.000000e+00      2.000       3.00       5.000   \nnum_actv_rev_tl             0.000000e+00      3.000       5.00       7.000   \nnum_bc_sats                 0.000000e+00      3.000       4.00       6.000   \nnum_bc_tl                   1.000000e+00      5.000       7.00      11.000   \nnum_il_tl                   1.000000e+00      4.000       7.00      12.000   \nnum_op_rev_tl               1.000000e+00      5.000       8.00      11.000   \nnum_rev_accts               1.000000e+00      9.000      14.00      19.000   \nnum_rev_tl_bal_gt_0         0.000000e+00      3.000       5.00       7.000   \nnum_sats                    1.000000e+00      8.000      11.00      15.000   \nnum_tl_120dpd_2m            0.000000e+00      0.000       0.00       0.000   \nnum_tl_30dpd                0.000000e+00      0.000       0.00       0.000   \nnum_tl_90g_dpd_24m          0.000000e+00      0.000       0.00       0.000   \nnum_tl_op_past_12m          0.000000e+00      1.000       2.00       3.000   \npct_tl_nvr_dlq              6.700000e+00     91.700      97.70     100.000   \npercent_bc_gt_75            0.000000e+00     12.500      44.40      75.000   \npub_rec_bankruptcies        0.000000e+00      0.000       0.00       0.000   \ntax_liens                   0.000000e+00      0.000       0.00       0.000   \ntot_hi_cred_lim             3.000000e+02  54933.500  125126.00  262807.000   \ntotal_bal_ex_mort           0.000000e+00  23701.500   40292.00   66005.000   \ntotal_bc_limit              1.000000e+02   8000.000   15200.00   28000.000   \ntotal_il_high_credit_limit  0.000000e+00  17958.000   34718.00   59950.000   \n\n                                     max  \nloan_amnt                   4.000000e+04  \nfunded_amnt                 4.000000e+04  \nfunded_amnt_inv             4.000000e+04  \ninstallment                 1.719830e+03  \nannual_inc                  9.550000e+06  \ndti                         9.990000e+02  \ndelinq_2yrs                 3.900000e+01  \ninq_last_6mths              8.000000e+00  \nopen_acc                    9.000000e+01  \npub_rec                     8.600000e+01  \nrevol_bal                   2.568995e+06  \ntotal_acc                   1.760000e+02  \nout_prncp                   0.000000e+00  \nout_prncp_inv               0.000000e+00  \ntotal_pymnt                 6.288480e+04  \ntotal_pymnt_inv             6.286251e+04  \ntotal_rec_prncp             4.000000e+04  \ntotal_rec_int               2.788480e+04  \ntotal_rec_late_fee          1.188830e+03  \nrecoveries                  3.985955e+04  \ncollection_recovery_fee     7.174719e+03  \nlast_pymnt_amnt             4.219205e+04  \ncollections_12_mths_ex_med  2.000000e+01  \npolicy_code                 1.000000e+00  \nacc_now_delinq              1.400000e+01  \ntot_coll_amt                9.152545e+06  \ntot_cur_bal                 5.172185e+06  \ntotal_rev_hi_lim            9.999999e+06  \nacc_open_past_24mths        6.400000e+01  \navg_cur_bal                 5.020020e+05  \n...                                  ...  \ndelinq_amnt                 9.205100e+04  \nmo_sin_old_il_acct          9.990000e+02  \nmo_sin_old_rev_tl_op        8.420000e+02  \nmo_sin_rcnt_rev_tl_op       3.720000e+02  \nmo_sin_rcnt_tl              1.940000e+02  \nmort_acc                    4.700000e+01  \nmths_since_recent_bc        6.040000e+02  \nmths_since_recent_inq       2.400000e+01  \nnum_accts_ever_120_pd       5.100000e+01  \nnum_actv_bc_tl              3.000000e+01  \nnum_actv_rev_tl             4.400000e+01  \nnum_bc_sats                 6.300000e+01  \nnum_bc_tl                   7.000000e+01  \nnum_il_tl                   1.500000e+02  \nnum_op_rev_tl               8.300000e+01  \nnum_rev_accts               1.280000e+02  \nnum_rev_tl_bal_gt_0         4.400000e+01  \nnum_sats                    9.000000e+01  \nnum_tl_120dpd_2m            6.000000e+00  \nnum_tl_30dpd                4.000000e+00  \nnum_tl_90g_dpd_24m          3.900000e+01  \nnum_tl_op_past_12m          3.000000e+01  \npct_tl_nvr_dlq              1.000000e+02  \npercent_bc_gt_75            1.000000e+02  \npub_rec_bankruptcies        1.200000e+01  \ntax_liens                   8.500000e+01  \ntot_hi_cred_lim             9.999999e+06  \ntotal_bal_ex_mort           3.408095e+06  \ntotal_bc_limit              1.105500e+06  \ntotal_il_high_credit_limit  2.101913e+06  \n\n[63 rows x 8 columns]"
                    }, 
                    "output_type": "execute_result"
                }
            ], 
            "source": "df_new.describe().transpose()"
        }, 
        {
            "source": "**Now, we have to convert interest rate and employment length to float data type. Also, all categorical data with cardinality greater than 50 would be dropped.**", 
            "cell_type": "markdown", 
            "metadata": {}
        }, 
        {
            "execution_count": 18, 
            "cell_type": "code", 
            "metadata": {}, 
            "outputs": [
                {
                    "output_type": "stream", 
                    "name": "stderr", 
                    "text": "/usr/local/src/conda3_runtime/home/envs/DSX-Python35-Spark/lib/python3.5/site-packages/ipykernel/__main__.py:2: SettingWithCopyWarning: \nA value is trying to be set on a copy of a slice from a DataFrame.\nTry using .loc[row_indexer,col_indexer] = value instead\n\nSee the caveats in the documentation: http://pandas.pydata.org/pandas-docs/stable/indexing.html#indexing-view-versus-copy\n  from ipykernel import kernelapp as app\n/usr/local/src/conda3_runtime/home/envs/DSX-Python35-Spark/lib/python3.5/site-packages/ipykernel/__main__.py:3: SettingWithCopyWarning: \nA value is trying to be set on a copy of a slice from a DataFrame.\nTry using .loc[row_indexer,col_indexer] = value instead\n\nSee the caveats in the documentation: http://pandas.pydata.org/pandas-docs/stable/indexing.html#indexing-view-versus-copy\n  app.launch_new_instance()\n"
                }
            ], 
            "source": "#interest rate is a string. Remove % and make it a float\ndf_new['int_rate'] = df_new['int_rate'].str.split('%').str[0]\ndf_new['int_rate'] = df_new.int_rate.astype(float)/100.\n"
        }, 
        {
            "execution_count": 19, 
            "cell_type": "code", 
            "metadata": {}, 
            "outputs": [
                {
                    "execution_count": 19, 
                    "metadata": {}, 
                    "data": {
                        "text/html": "<div>\n<style scoped>\n    .dataframe tbody tr th:only-of-type {\n        vertical-align: middle;\n    }\n\n    .dataframe tbody tr th {\n        vertical-align: top;\n    }\n\n    .dataframe thead th {\n        text-align: right;\n    }\n</style>\n<table border=\"1\" class=\"dataframe\">\n  <thead>\n    <tr style=\"text-align: right;\">\n      <th></th>\n      <th></th>\n      <th>Count</th>\n    </tr>\n    <tr>\n      <th>purpose</th>\n      <th>loan_status</th>\n      <th></th>\n    </tr>\n  </thead>\n  <tbody>\n    <tr>\n      <th rowspan=\"2\" valign=\"top\">car</th>\n      <th>Charged Off</th>\n      <td>1188</td>\n    </tr>\n    <tr>\n      <th>Fully Paid</th>\n      <td>6775</td>\n    </tr>\n    <tr>\n      <th rowspan=\"2\" valign=\"top\">credit_card</th>\n      <th>Charged Off</th>\n      <td>32078</td>\n    </tr>\n    <tr>\n      <th>Fully Paid</th>\n      <td>155240</td>\n    </tr>\n    <tr>\n      <th rowspan=\"2\" valign=\"top\">debt_consolidation</th>\n      <th>Charged Off</th>\n      <td>109132</td>\n    </tr>\n    <tr>\n      <th>Fully Paid</th>\n      <td>401925</td>\n    </tr>\n    <tr>\n      <th>educational</th>\n      <th>Fully Paid</th>\n      <td>1</td>\n    </tr>\n    <tr>\n      <th rowspan=\"2\" valign=\"top\">home_improvement</th>\n      <th>Charged Off</th>\n      <td>9934</td>\n    </tr>\n    <tr>\n      <th>Fully Paid</th>\n      <td>45719</td>\n    </tr>\n    <tr>\n      <th rowspan=\"2\" valign=\"top\">house</th>\n      <th>Charged Off</th>\n      <td>922</td>\n    </tr>\n    <tr>\n      <th>Fully Paid</th>\n      <td>3202</td>\n    </tr>\n    <tr>\n      <th rowspan=\"2\" valign=\"top\">major_purchase</th>\n      <th>Charged Off</th>\n      <td>3327</td>\n    </tr>\n    <tr>\n      <th>Fully Paid</th>\n      <td>13724</td>\n    </tr>\n    <tr>\n      <th rowspan=\"2\" valign=\"top\">medical</th>\n      <th>Charged Off</th>\n      <td>1983</td>\n    </tr>\n    <tr>\n      <th>Fully Paid</th>\n      <td>7029</td>\n    </tr>\n    <tr>\n      <th rowspan=\"2\" valign=\"top\">moving</th>\n      <th>Charged Off</th>\n      <td>1366</td>\n    </tr>\n    <tr>\n      <th>Fully Paid</th>\n      <td>4273</td>\n    </tr>\n    <tr>\n      <th rowspan=\"2\" valign=\"top\">other</th>\n      <th>Charged Off</th>\n      <td>9709</td>\n    </tr>\n    <tr>\n      <th>Fully Paid</th>\n      <td>35105</td>\n    </tr>\n    <tr>\n      <th rowspan=\"2\" valign=\"top\">renewable_energy</th>\n      <th>Charged Off</th>\n      <td>121</td>\n    </tr>\n    <tr>\n      <th>Fully Paid</th>\n      <td>413</td>\n    </tr>\n    <tr>\n      <th rowspan=\"2\" valign=\"top\">small_business</th>\n      <th>Charged Off</th>\n      <td>2609</td>\n    </tr>\n    <tr>\n      <th>Fully Paid</th>\n      <td>5706</td>\n    </tr>\n    <tr>\n      <th rowspan=\"2\" valign=\"top\">vacation</th>\n      <th>Charged Off</th>\n      <td>1051</td>\n    </tr>\n    <tr>\n      <th>Fully Paid</th>\n      <td>4380</td>\n    </tr>\n    <tr>\n      <th rowspan=\"2\" valign=\"top\">wedding</th>\n      <th>Charged Off</th>\n      <td>103</td>\n    </tr>\n    <tr>\n      <th>Fully Paid</th>\n      <td>592</td>\n    </tr>\n  </tbody>\n</table>\n</div>", 
                        "text/plain": "                                 Count\npurpose            loan_status        \ncar                Charged Off    1188\n                   Fully Paid     6775\ncredit_card        Charged Off   32078\n                   Fully Paid   155240\ndebt_consolidation Charged Off  109132\n                   Fully Paid   401925\neducational        Fully Paid        1\nhome_improvement   Charged Off    9934\n                   Fully Paid    45719\nhouse              Charged Off     922\n                   Fully Paid     3202\nmajor_purchase     Charged Off    3327\n                   Fully Paid    13724\nmedical            Charged Off    1983\n                   Fully Paid     7029\nmoving             Charged Off    1366\n                   Fully Paid     4273\nother              Charged Off    9709\n                   Fully Paid    35105\nrenewable_energy   Charged Off     121\n                   Fully Paid      413\nsmall_business     Charged Off    2609\n                   Fully Paid     5706\nvacation           Charged Off    1051\n                   Fully Paid     4380\nwedding            Charged Off     103\n                   Fully Paid      592"
                    }, 
                    "output_type": "execute_result"
                }
            ], 
            "source": "df_new[['purpose','loan_status']].groupby(['purpose','loan_status']).size().to_frame().rename(columns= {0 : 'Count'})"
        }, 
        {
            "execution_count": 20, 
            "cell_type": "code", 
            "metadata": {}, 
            "outputs": [
                {
                    "execution_count": 20, 
                    "metadata": {}, 
                    "data": {
                        "text/plain": "purpose             loan_status\ncar                 Charged Off     14.919000\n                    Fully Paid      85.081000\ncredit_card         Charged Off     17.124889\n                    Fully Paid      82.875111\ndebt_consolidation  Charged Off     21.354174\n                    Fully Paid      78.645826\neducational         Fully Paid     100.000000\nhome_improvement    Charged Off     17.849891\n                    Fully Paid      82.150109\nhouse               Charged Off     22.356935\n                    Fully Paid      77.643065\nmajor_purchase      Charged Off     19.512052\n                    Fully Paid      80.487948\nmedical             Charged Off     22.003995\n                    Fully Paid      77.996005\nmoving              Charged Off     24.224153\n                    Fully Paid      75.775847\nother               Charged Off     21.665105\n                    Fully Paid      78.334895\nrenewable_energy    Charged Off     22.659176\n                    Fully Paid      77.340824\nsmall_business      Charged Off     31.377029\n                    Fully Paid      68.622971\nvacation            Charged Off     19.351869\n                    Fully Paid      80.648131\nwedding             Charged Off     14.820144\n                    Fully Paid      85.179856\nName: loan_status, dtype: float64"
                    }, 
                    "output_type": "execute_result"
                }
            ], 
            "source": "grp=df_new.groupby(['purpose','loan_status'])['loan_status'].count()\ngrp / grp.groupby(level=0).sum()*100"
        }, 
        {
            "execution_count": 21, 
            "cell_type": "code", 
            "metadata": {}, 
            "outputs": [
                {
                    "output_type": "stream", 
                    "name": "stderr", 
                    "text": "/usr/local/src/conda3_runtime/home/envs/DSX-Python35-Spark/lib/python3.5/site-packages/pandas/core/generic.py:4619: SettingWithCopyWarning: \nA value is trying to be set on a copy of a slice from a DataFrame\n\nSee the caveats in the documentation: http://pandas.pydata.org/pandas-docs/stable/indexing.html#indexing-view-versus-copy\n  self._update_inplace(new_data)\n"
                }, 
                {
                    "execution_count": 21, 
                    "metadata": {}, 
                    "data": {
                        "text/plain": "array([ 2, 10,  7,  4,  5,  3,  6,  1,  8,  9,  0])"
                    }, 
                    "output_type": "execute_result"
                }
            ], 
            "source": "# recode employment length\nemp_len={'< 1 year':0,'1 year':1,'2 years':2,'3 years':3,'4 years':4,'5 years':5,'6 years':6,'7 years':7,'8 years':8,'9 years':9,'10+ years':10}\ndf_new.emp_length.replace(emp_len,inplace=True)\ndf_new.emp_length.unique()"
        }, 
        {
            "execution_count": 22, 
            "cell_type": "code", 
            "metadata": {}, 
            "outputs": [
                {
                    "output_type": "stream", 
                    "name": "stderr", 
                    "text": "/usr/local/src/conda3_runtime/home/envs/DSX-Python35-Spark/lib/python3.5/site-packages/ipykernel/__main__.py:4: SettingWithCopyWarning: \nA value is trying to be set on a copy of a slice from a DataFrame\n\nSee the caveats in the documentation: http://pandas.pydata.org/pandas-docs/stable/indexing.html#indexing-view-versus-copy\n"
                }
            ], 
            "source": "# Delete column of categorical data with higher cadinality\ndel_cols=['emp_title','issue_d','title','zip_code','addr_state','earliest_cr_line', \\\n        'revol_util','initial_list_status','last_pymnt_d','last_credit_pull_d']\n\ndf_new.drop(del_cols , axis=1, inplace=True) "
        }, 
        {
            "source": "### Feature Engineering", 
            "cell_type": "markdown", 
            "metadata": {}
        }, 
        {
            "execution_count": 23, 
            "cell_type": "code", 
            "metadata": {}, 
            "outputs": [], 
            "source": "# CREATE DUMMY VARIABLES FOR CATEGORICAL DATA\ncat_features = ['term','grade','sub_grade','home_ownership','verification_status', \\\n            'pymnt_plan','purpose','application_type','hardship_flag', \\\n            'disbursement_method','debt_settlement_flag']\ndata= pd.get_dummies(df_new,columns=cat_features, drop_first=True)"
        }, 
        {
            "execution_count": 24, 
            "cell_type": "code", 
            "metadata": {}, 
            "outputs": [
                {
                    "execution_count": 24, 
                    "metadata": {}, 
                    "data": {
                        "text/html": "<div>\n<style scoped>\n    .dataframe tbody tr th:only-of-type {\n        vertical-align: middle;\n    }\n\n    .dataframe tbody tr th {\n        vertical-align: top;\n    }\n\n    .dataframe thead th {\n        text-align: right;\n    }\n</style>\n<table border=\"1\" class=\"dataframe\">\n  <thead>\n    <tr style=\"text-align: right;\">\n      <th></th>\n      <th>count</th>\n      <th>unique</th>\n      <th>top</th>\n      <th>freq</th>\n    </tr>\n  </thead>\n  <tbody>\n    <tr>\n      <th>loan_status</th>\n      <td>857607</td>\n      <td>2</td>\n      <td>Fully Paid</td>\n      <td>684084</td>\n    </tr>\n  </tbody>\n</table>\n</div>", 
                        "text/plain": "              count unique         top    freq\nloan_status  857607      2  Fully Paid  684084"
                    }, 
                    "output_type": "execute_result"
                }
            ], 
            "source": "data.describe(include=['object']).transpose()"
        }, 
        {
            "execution_count": 25, 
            "cell_type": "code", 
            "metadata": {}, 
            "outputs": [
                {
                    "execution_count": 25, 
                    "metadata": {}, 
                    "data": {
                        "text/plain": "(857607, 132)"
                    }, 
                    "output_type": "execute_result"
                }
            ], 
            "source": "data.shape"
        }, 
        {
            "source": "### Saving Clean Data to Object Storage and Ready for Modeling", 
            "cell_type": "markdown", 
            "metadata": {}
        }, 
        {
            "execution_count": null, 
            "cell_type": "code", 
            "metadata": {}, 
            "outputs": [], 
            "source": "# Save dataframe as csv file to storage\nproject.save_data(data=data.to_csv(index=False),file_name='dataset.csv',overwrite=True)"
        }, 
        {
            "source": "### Keras Deep Learning \n\nUsing the Keras Sequential Model,  We will build a Feed Forward Neural Network. First, we load the cleaned dataset and training a Neural Network feeding the network the features and the label class.\n\nNow, we first import the required packages.", 
            "cell_type": "markdown", 
            "metadata": {}
        }, 
        {
            "execution_count": 26, 
            "cell_type": "code", 
            "metadata": {}, 
            "outputs": [
                {
                    "output_type": "stream", 
                    "name": "stderr", 
                    "text": "Using TensorFlow backend.\n"
                }
            ], 
            "source": "import pip\n\ntry:\n    __import__('keras')\nexcept ImportError:\n    pip.main(['install', 'keras']) \n    \ntry:\n    __import__('h5py')\nexcept ImportError:\n    pip.main(['install', 'h5py']) \n\nimport numpy as np\nimport pandas as pd\nfrom keras.models import Sequential\nfrom keras.layers import Dense, Dropout\nfrom keras.utils import to_categorical\nfrom keras.wrappers.scikit_learn import KerasClassifier\nfrom sklearn.preprocessing import LabelEncoder\nfrom sklearn.preprocessing import StandardScaler\nfrom keras.utils import np_utils\n\nseed = 100\nnp.random.seed(seed)"
        }, 
        {
            "source": "### Load the data into a pandas dataframe and Split into Features and Labels", 
            "cell_type": "markdown", 
            "metadata": {}
        }, 
        {
            "execution_count": 27, 
            "cell_type": "code", 
            "metadata": {}, 
            "outputs": [
                {
                    "execution_count": 27, 
                    "metadata": {}, 
                    "data": {
                        "text/html": "<div>\n<style scoped>\n    .dataframe tbody tr th:only-of-type {\n        vertical-align: middle;\n    }\n\n    .dataframe tbody tr th {\n        vertical-align: top;\n    }\n\n    .dataframe thead th {\n        text-align: right;\n    }\n</style>\n<table border=\"1\" class=\"dataframe\">\n  <thead>\n    <tr style=\"text-align: right;\">\n      <th></th>\n      <th>loan_amnt</th>\n      <th>funded_amnt</th>\n      <th>funded_amnt_inv</th>\n      <th>int_rate</th>\n      <th>installment</th>\n      <th>emp_length</th>\n      <th>annual_inc</th>\n      <th>loan_status</th>\n      <th>dti</th>\n      <th>delinq_2yrs</th>\n      <th>...</th>\n      <th>purpose_moving</th>\n      <th>purpose_other</th>\n      <th>purpose_renewable_energy</th>\n      <th>purpose_small_business</th>\n      <th>purpose_vacation</th>\n      <th>purpose_wedding</th>\n      <th>application_type_Joint App</th>\n      <th>hardship_flag_Y</th>\n      <th>disbursement_method_DirectPay</th>\n      <th>debt_settlement_flag_Y</th>\n    </tr>\n  </thead>\n  <tbody>\n    <tr>\n      <th>0</th>\n      <td>8000.0</td>\n      <td>8000.0</td>\n      <td>8000.0</td>\n      <td>0.1099</td>\n      <td>261.88</td>\n      <td>2</td>\n      <td>33000.0</td>\n      <td>Charged Off</td>\n      <td>15.75</td>\n      <td>0.0</td>\n      <td>...</td>\n      <td>0</td>\n      <td>0</td>\n      <td>0</td>\n      <td>0</td>\n      <td>0</td>\n      <td>0</td>\n      <td>0</td>\n      <td>0</td>\n      <td>0</td>\n      <td>0</td>\n    </tr>\n    <tr>\n      <th>1</th>\n      <td>20800.0</td>\n      <td>20800.0</td>\n      <td>20800.0</td>\n      <td>0.1353</td>\n      <td>706.16</td>\n      <td>10</td>\n      <td>81500.0</td>\n      <td>Fully Paid</td>\n      <td>16.73</td>\n      <td>0.0</td>\n      <td>...</td>\n      <td>0</td>\n      <td>0</td>\n      <td>0</td>\n      <td>0</td>\n      <td>0</td>\n      <td>0</td>\n      <td>0</td>\n      <td>0</td>\n      <td>0</td>\n      <td>0</td>\n    </tr>\n    <tr>\n      <th>2</th>\n      <td>10000.0</td>\n      <td>10000.0</td>\n      <td>10000.0</td>\n      <td>0.0967</td>\n      <td>321.13</td>\n      <td>7</td>\n      <td>102000.0</td>\n      <td>Fully Paid</td>\n      <td>15.55</td>\n      <td>2.0</td>\n      <td>...</td>\n      <td>0</td>\n      <td>0</td>\n      <td>0</td>\n      <td>0</td>\n      <td>0</td>\n      <td>0</td>\n      <td>0</td>\n      <td>0</td>\n      <td>0</td>\n      <td>0</td>\n    </tr>\n    <tr>\n      <th>3</th>\n      <td>11500.0</td>\n      <td>11500.0</td>\n      <td>11500.0</td>\n      <td>0.2290</td>\n      <td>323.54</td>\n      <td>4</td>\n      <td>32760.0</td>\n      <td>Fully Paid</td>\n      <td>27.06</td>\n      <td>0.0</td>\n      <td>...</td>\n      <td>0</td>\n      <td>0</td>\n      <td>0</td>\n      <td>0</td>\n      <td>0</td>\n      <td>0</td>\n      <td>0</td>\n      <td>0</td>\n      <td>0</td>\n      <td>0</td>\n    </tr>\n    <tr>\n      <th>4</th>\n      <td>15000.0</td>\n      <td>15000.0</td>\n      <td>15000.0</td>\n      <td>0.0890</td>\n      <td>476.30</td>\n      <td>2</td>\n      <td>63000.0</td>\n      <td>Fully Paid</td>\n      <td>16.51</td>\n      <td>0.0</td>\n      <td>...</td>\n      <td>0</td>\n      <td>0</td>\n      <td>0</td>\n      <td>0</td>\n      <td>0</td>\n      <td>0</td>\n      <td>0</td>\n      <td>0</td>\n      <td>0</td>\n      <td>0</td>\n    </tr>\n  </tbody>\n</table>\n<p>5 rows \u00d7 132 columns</p>\n</div>", 
                        "text/plain": "   loan_amnt  funded_amnt  funded_amnt_inv  int_rate  installment  emp_length  \\\n0     8000.0       8000.0           8000.0    0.1099       261.88           2   \n1    20800.0      20800.0          20800.0    0.1353       706.16          10   \n2    10000.0      10000.0          10000.0    0.0967       321.13           7   \n3    11500.0      11500.0          11500.0    0.2290       323.54           4   \n4    15000.0      15000.0          15000.0    0.0890       476.30           2   \n\n   annual_inc  loan_status    dti  delinq_2yrs           ...            \\\n0     33000.0  Charged Off  15.75          0.0           ...             \n1     81500.0   Fully Paid  16.73          0.0           ...             \n2    102000.0   Fully Paid  15.55          2.0           ...             \n3     32760.0   Fully Paid  27.06          0.0           ...             \n4     63000.0   Fully Paid  16.51          0.0           ...             \n\n   purpose_moving  purpose_other  purpose_renewable_energy  \\\n0               0              0                         0   \n1               0              0                         0   \n2               0              0                         0   \n3               0              0                         0   \n4               0              0                         0   \n\n   purpose_small_business  purpose_vacation  purpose_wedding  \\\n0                       0                 0                0   \n1                       0                 0                0   \n2                       0                 0                0   \n3                       0                 0                0   \n4                       0                 0                0   \n\n   application_type_Joint App  hardship_flag_Y  disbursement_method_DirectPay  \\\n0                           0                0                              0   \n1                           0                0                              0   \n2                           0                0                              0   \n3                           0                0                              0   \n4                           0                0                              0   \n\n   debt_settlement_flag_Y  \n0                       0  \n1                       0  \n2                       0  \n3                       0  \n4                       0  \n\n[5 rows x 132 columns]"
                    }, 
                    "output_type": "execute_result"
                }
            ], 
            "source": "body = client_bdc1578e6f6540e7b1fcdd8468fc945c.get_object(Bucket='ibmadvanceddatasciencecapstone-donotdelete-pr-qegyxjwgs1xkix',Key='dataset.csv')['Body']\n# add missing __iter__ method, so pandas accepts body as file-like object\nif not hasattr(body, \"__iter__\"): body.__iter__ = types.MethodType( __iter__, body )\n\ndf= pd.read_csv(body)\ndf.head()"
        }, 
        {
            "execution_count": 28, 
            "cell_type": "code", 
            "metadata": {}, 
            "outputs": [], 
            "source": "features=df.drop('loan_status', axis=1)"
        }, 
        {
            "execution_count": 29, 
            "cell_type": "code", 
            "metadata": {}, 
            "outputs": [], 
            "source": "# encode Target values as integers\nencoder = LabelEncoder()\nencoder.fit(df['loan_status'])\nencoded_Y = encoder.transform(df['loan_status'])\n\n# convert integers to dummy variables (hot encoded)\nTarget = np_utils.to_categorical(encoded_Y)\n#print(Target)"
        }, 
        {
            "execution_count": 30, 
            "cell_type": "code", 
            "metadata": {}, 
            "outputs": [
                {
                    "execution_count": 30, 
                    "metadata": {}, 
                    "data": {
                        "text/plain": "((686085, 131), (686085, 2), (171522, 131), (171522, 2))"
                    }, 
                    "output_type": "execute_result"
                }
            ], 
            "source": "from sklearn.model_selection import train_test_split\nx_train, x_test, y_train, y_test = train_test_split(features, Target, test_size=0.20, random_state=1)\nx_train.shape, y_train.shape, x_test.shape, y_test.shape"
        }, 
        {
            "execution_count": 31, 
            "cell_type": "code", 
            "metadata": {}, 
            "outputs": [
                {
                    "execution_count": 31, 
                    "metadata": {}, 
                    "data": {
                        "text/plain": "StandardScaler(copy=True, with_mean=True, with_std=True)"
                    }, 
                    "output_type": "execute_result"
                }
            ], 
            "source": "from sklearn.preprocessing import StandardScaler\nscaler = StandardScaler()\n# Fit only to the training data\nscaler.fit(x_train)"
        }, 
        {
            "execution_count": 32, 
            "cell_type": "code", 
            "metadata": {}, 
            "outputs": [], 
            "source": "# Now apply the transformations to the data:\nsd_train = scaler.transform(x_train)"
        }, 
        {
            "execution_count": 33, 
            "cell_type": "code", 
            "metadata": {}, 
            "outputs": [], 
            "source": "# Now apply the scale the test data:\nsd_test = scaler.transform(x_test)"
        }, 
        {
            "source": "### Build a model", 
            "cell_type": "markdown", 
            "metadata": {}
        }, 
        {
            "execution_count": 34, 
            "cell_type": "code", 
            "metadata": {}, 
            "outputs": [], 
            "source": "# create model\nmodel = Sequential()\nmodel.add(Dense(64, activation='relu', input_dim=131))\nmodel.add(Dense(2, activation='sigmoid')) "
        }, 
        {
            "source": "### Complie and Train the Model", 
            "cell_type": "markdown", 
            "metadata": {}
        }, 
        {
            "execution_count": 35, 
            "cell_type": "code", 
            "metadata": {}, 
            "outputs": [
                {
                    "output_type": "stream", 
                    "name": "stdout", 
                    "text": "Epoch 1/20\n686085/686085 [==============================] - 8s 12us/step - loss: 0.0324 - acc: 0.9895\nEpoch 2/20\n686085/686085 [==============================] - 8s 12us/step - loss: 0.0094 - acc: 0.9977\nEpoch 3/20\n686085/686085 [==============================] - 8s 12us/step - loss: 0.0076 - acc: 0.9982\nEpoch 4/20\n686085/686085 [==============================] - 8s 12us/step - loss: 0.0063 - acc: 0.9984\nEpoch 5/20\n686085/686085 [==============================] - 8s 12us/step - loss: 0.0055 - acc: 0.9987\nEpoch 6/20\n686085/686085 [==============================] - 8s 12us/step - loss: 0.0052 - acc: 0.9987\nEpoch 7/20\n686085/686085 [==============================] - 8s 12us/step - loss: 0.0052 - acc: 0.9987\nEpoch 8/20\n686085/686085 [==============================] - 8s 12us/step - loss: 0.0048 - acc: 0.9988\nEpoch 9/20\n686085/686085 [==============================] - 8s 12us/step - loss: 0.0044 - acc: 0.9989\nEpoch 10/20\n686085/686085 [==============================] - 8s 12us/step - loss: 0.0041 - acc: 0.9990\nEpoch 11/20\n686085/686085 [==============================] - 8s 12us/step - loss: 0.0042 - acc: 0.9990\nEpoch 12/20\n686085/686085 [==============================] - 8s 12us/step - loss: 0.0036 - acc: 0.9991\nEpoch 13/20\n686085/686085 [==============================] - 8s 12us/step - loss: 0.0036 - acc: 0.9991\nEpoch 14/20\n686085/686085 [==============================] - 8s 12us/step - loss: 0.0037 - acc: 0.9991\nEpoch 15/20\n686085/686085 [==============================] - 8s 12us/step - loss: 0.0033 - acc: 0.9991\nEpoch 16/20\n686085/686085 [==============================] - 8s 12us/step - loss: 0.0032 - acc: 0.9992\nEpoch 17/20\n686085/686085 [==============================] - ETA: 0s - loss: 0.0031 - acc: 0.999 - 8s 12us/step - loss: 0.0031 - acc: 0.9992\nEpoch 18/20\n686085/686085 [==============================] - 8s 12us/step - loss: 0.0029 - acc: 0.9992\nEpoch 19/20\n686085/686085 [==============================] - 8s 12us/step - loss: 0.0029 - acc: 0.9992\nEpoch 20/20\n686085/686085 [==============================] - 8s 12us/step - loss: 0.0031 - acc: 0.9993\n"
                }, 
                {
                    "execution_count": 35, 
                    "metadata": {}, 
                    "data": {
                        "text/plain": "<keras.callbacks.History at 0x7f17b49662b0>"
                    }, 
                    "output_type": "execute_result"
                }
            ], 
            "source": "#model.compile(optimizer='rmsprop',loss='binary_crossentropy', metrics=['accuracy'])\n# Compile model\nmodel.compile(loss='binary_crossentropy', optimizer='adam', metrics=['accuracy'])\nmodel.fit(sd_train, y_train, epochs=20, batch_size=128)"
        }, 
        {
            "execution_count": 36, 
            "cell_type": "code", 
            "metadata": {}, 
            "outputs": [], 
            "source": "predictions = model.predict(sd_test)"
        }, 
        {
            "execution_count": 37, 
            "cell_type": "code", 
            "metadata": {}, 
            "outputs": [
                {
                    "output_type": "stream", 
                    "name": "stdout", 
                    "text": "171522/171522 [==============================] - 1s 6us/step\n"
                }, 
                {
                    "execution_count": 37, 
                    "metadata": {}, 
                    "data": {
                        "text/plain": "[0.0062461124117205377, 0.9987231958582572]"
                    }, 
                    "output_type": "execute_result"
                }
            ], 
            "source": "score = model.evaluate(sd_test, y_test, batch_size=128)\nscore"
        }, 
        {
            "execution_count": 38, 
            "cell_type": "code", 
            "metadata": {}, 
            "outputs": [], 
            "source": "#encoder.inverse_transform((y_test) as integer)\ny_classes = [np.argmax(y, axis=None, out=None) for y in y_test]\ny_classtt= [np.argmax(y, axis=None, out=None) for y in predictions]"
        }, 
        {
            "execution_count": 51, 
            "cell_type": "code", 
            "metadata": {}, 
            "outputs": [
                {
                    "output_type": "stream", 
                    "name": "stdout", 
                    "text": "             precision    recall  f1-score   support\n\nCharged Off     0.9979    0.9958    0.9969     34814\n Fully Paid     0.9989    0.9995    0.9992    136708\n\navg / total     0.9987    0.9987    0.9987    171522\n\n"
                }
            ], 
            "source": "#model.metrics_names\nfrom sklearn.metrics import classification_report\ntarget_names=['Charged Off', 'Fully Paid']\nprint(classification_report(y_classes, y_classtt,target_names=target_names,digits=4))"
        }, 
        {
            "execution_count": 41, 
            "cell_type": "code", 
            "metadata": {}, 
            "outputs": [
                {
                    "execution_count": 41, 
                    "metadata": {}, 
                    "data": {
                        "text/html": "<div>\n<style scoped>\n    .dataframe tbody tr th:only-of-type {\n        vertical-align: middle;\n    }\n\n    .dataframe tbody tr th {\n        vertical-align: top;\n    }\n\n    .dataframe thead th {\n        text-align: right;\n    }\n</style>\n<table border=\"1\" class=\"dataframe\">\n  <thead>\n    <tr style=\"text-align: right;\">\n      <th></th>\n      <th>Predicted Charged Off</th>\n      <th>Predicted Fully Paid</th>\n    </tr>\n  </thead>\n  <tbody>\n    <tr>\n      <th>Charged Off</th>\n      <td>34669</td>\n      <td>145</td>\n    </tr>\n    <tr>\n      <th>Fully Paid</th>\n      <td>74</td>\n      <td>136634</td>\n    </tr>\n  </tbody>\n</table>\n</div>", 
                        "text/plain": "             Predicted Charged Off  Predicted Fully Paid\nCharged Off                  34669                   145\nFully Paid                      74                136634"
                    }, 
                    "output_type": "execute_result"
                }
            ], 
            "source": "from sklearn.metrics import confusion_matrix\nimport pandas as pd\n\nconfusion_df = pd.DataFrame(confusion_matrix(y_classes,y_classtt),\n             columns=[\"Predicted \" + str(class_name) for class_name in ['Charged Off','Fully Paid']],\n             index = [class_name for class_name in ['Charged Off','Fully Paid']])\n\nconfusion_df"
        }, 
        {
            "source": "### Logistic Regression Model", 
            "cell_type": "markdown", 
            "metadata": {}
        }, 
        {
            "execution_count": 42, 
            "cell_type": "code", 
            "metadata": {}, 
            "outputs": [], 
            "source": "# Recoding loan_status for logistic Regression \ny=df['loan_status'].replace(to_replace=['Fully Paid', 'Charged Off'], value=[0, 1])"
        }, 
        {
            "execution_count": 43, 
            "cell_type": "code", 
            "metadata": {}, 
            "outputs": [
                {
                    "execution_count": 43, 
                    "metadata": {}, 
                    "data": {
                        "text/plain": "((686085, 131), (686085,), (171522, 131), (171522,))"
                    }, 
                    "output_type": "execute_result"
                }
            ], 
            "source": "from sklearn.model_selection import train_test_split\nx_train, x_test, y_train, y_test = train_test_split(features, y, test_size=0.20, random_state=1)\nx_train.shape, y_train.shape, x_test.shape, y_test.shape"
        }, 
        {
            "execution_count": 44, 
            "cell_type": "code", 
            "metadata": {}, 
            "outputs": [
                {
                    "execution_count": 44, 
                    "metadata": {}, 
                    "data": {
                        "text/plain": "StandardScaler(copy=True, with_mean=True, with_std=True)"
                    }, 
                    "output_type": "execute_result"
                }
            ], 
            "source": "from sklearn.preprocessing import StandardScaler\nscaler = StandardScaler()\n# Fit only to the training data\nscaler.fit(x_train)"
        }, 
        {
            "execution_count": 45, 
            "cell_type": "code", 
            "metadata": {}, 
            "outputs": [], 
            "source": "# Now apply the transformations to the data:\nsd_train = scaler.transform(x_train)\nsd_test = scaler.transform(x_test)"
        }, 
        {
            "execution_count": 46, 
            "cell_type": "code", 
            "metadata": {}, 
            "outputs": [
                {
                    "execution_count": 46, 
                    "metadata": {}, 
                    "data": {
                        "text/plain": "LogisticRegression(C=1.0, class_weight=None, dual=False, fit_intercept=True,\n          intercept_scaling=1, max_iter=100, multi_class='ovr', n_jobs=1,\n          penalty='l2', random_state=None, solver='liblinear', tol=0.0001,\n          verbose=0, warm_start=False)"
                    }, 
                    "output_type": "execute_result"
                }
            ], 
            "source": "from sklearn.linear_model import LogisticRegression\nlogistic = LogisticRegression()\nlogistic.fit(sd_train, y_train)"
        }, 
        {
            "execution_count": 47, 
            "cell_type": "code", 
            "metadata": {}, 
            "outputs": [], 
            "source": "y_pred = logistic.predict(sd_test)"
        }, 
        {
            "source": "#### Logistic Regression Model Performance", 
            "cell_type": "markdown", 
            "metadata": {}
        }, 
        {
            "execution_count": 48, 
            "cell_type": "code", 
            "metadata": {}, 
            "outputs": [
                {
                    "execution_count": 48, 
                    "metadata": {}, 
                    "data": {
                        "text/plain": "0.99868821492286708"
                    }, 
                    "output_type": "execute_result"
                }
            ], 
            "source": "from sklearn.metrics import accuracy_score\naccuracy_score(y_test, y_pred)"
        }, 
        {
            "source": "### Creating Confusion Matrix", 
            "cell_type": "markdown", 
            "metadata": {}
        }, 
        {
            "execution_count": 49, 
            "cell_type": "code", 
            "metadata": {}, 
            "outputs": [
                {
                    "execution_count": 49, 
                    "metadata": {}, 
                    "data": {
                        "text/html": "<div>\n<style scoped>\n    .dataframe tbody tr th:only-of-type {\n        vertical-align: middle;\n    }\n\n    .dataframe tbody tr th {\n        vertical-align: top;\n    }\n\n    .dataframe thead th {\n        text-align: right;\n    }\n</style>\n<table border=\"1\" class=\"dataframe\">\n  <thead>\n    <tr style=\"text-align: right;\">\n      <th></th>\n      <th>Predicted Fully Paid</th>\n      <th>Predicted Charged Off</th>\n    </tr>\n  </thead>\n  <tbody>\n    <tr>\n      <th>Fully Paid</th>\n      <td>136708</td>\n      <td>0</td>\n    </tr>\n    <tr>\n      <th>Charged Off</th>\n      <td>225</td>\n      <td>34589</td>\n    </tr>\n  </tbody>\n</table>\n</div>", 
                        "text/plain": "             Predicted Fully Paid  Predicted Charged Off\nFully Paid                 136708                      0\nCharged Off                   225                  34589"
                    }, 
                    "output_type": "execute_result"
                }
            ], 
            "source": "from sklearn.metrics import confusion_matrix\nimport pandas as pd\n\nconfusion_df = pd.DataFrame(confusion_matrix(y_test,y_pred),\n             columns=[\"Predicted \" + str(class_name) for class_name in ['Fully Paid', 'Charged Off']],\n             index = [class_name for class_name in ['Fully Paid', 'Charged Off']])\n\nconfusion_df"
        }, 
        {
            "execution_count": 50, 
            "cell_type": "code", 
            "metadata": {}, 
            "outputs": [
                {
                    "output_type": "stream", 
                    "name": "stdout", 
                    "text": "             precision    recall  f1-score   support\n\n Fully Paid     0.9984    1.0000    0.9992    136708\nCharged Off     1.0000    0.9935    0.9968     34814\n\navg / total     0.9987    0.9987    0.9987    171522\n\n"
                }
            ], 
            "source": "from sklearn.metrics import classification_report\nprint(classification_report(y_test, y_pred,target_names=['Fully Paid', 'Charged Off'],digits=4))"
        }, 
        {
            "source": "### Conclusion\nIn this project, we develop models to predict chance of a customer charging off on a crdeit loan. We trained a logistics regression and neural network model and the models achieved accuracies of 0.9986 and 0.9993, respectively. From the confusion matrix, the deep learning model outperfoms the logistics resgression model. But I will recommend logistics regression because its easier to explain the model's decision while its practically difficult to provide reason for deep learning model's choice.", 
            "cell_type": "markdown", 
            "metadata": {}
        }
    ], 
    "metadata": {
        "kernelspec": {
            "display_name": "Python 3.5 with Spark 2.1", 
            "name": "python3-spark21", 
            "language": "python"
        }, 
        "language_info": {
            "mimetype": "text/x-python", 
            "nbconvert_exporter": "python", 
            "version": "3.5.4", 
            "name": "python", 
            "file_extension": ".py", 
            "pygments_lexer": "ipython3", 
            "codemirror_mode": {
                "version": 3, 
                "name": "ipython"
            }
        }
    }, 
    "nbformat": 4
}